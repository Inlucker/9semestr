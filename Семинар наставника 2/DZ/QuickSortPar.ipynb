{
 "cells": [
  {
   "cell_type": "markdown",
   "id": "09e3a2de-9483-4efd-90d1-2807998ca0da",
   "metadata": {},
   "source": [
    "# numba"
   ]
  },
  {
   "cell_type": "code",
   "execution_count": 114,
   "id": "8a9f7a02-a47f-47c6-b5c7-cb3c3b6fe474",
   "metadata": {},
   "outputs": [],
   "source": [
    "import numpy as np\n",
    "from numba import config, njit, prange\n",
    "import time\n",
    "import numba\n",
    "\n",
    "def isArraySorted(arr):\n",
    "    n = len(arr)\n",
    "    if (n > 0):\n",
    "        prev = arr[0]\n",
    "        for i in range(n):\n",
    "            if (arr[i] < prev):\n",
    "                return False\n",
    "    return True;\n",
    "\n",
    "def createRandomArr(n):\n",
    "    return np.random.randint(0, 100, n)\n",
    "\n",
    "N = 10000\n",
    "ITERS = 100\n",
    "\n",
    "@njit\n",
    "def quickSortSeq(arr, low, high):\n",
    "    if (low < high):\n",
    "        # partitionHoar\n",
    "        i = low\n",
    "        j = high\n",
    "        pivot = arr[(i + j) // 2]\n",
    "        while (1):\n",
    "            while (arr[i] < pivot):\n",
    "                i = i + 1\n",
    "            while (arr[j] > pivot):\n",
    "                j = j - 1\n",
    "\n",
    "            if (i >= j):\n",
    "                break\n",
    "\n",
    "            arr[i], arr[j] = arr[j], arr[i]\n",
    "            i = i + 1\n",
    "            j = j - 1\n",
    "        pi = j\n",
    "\n",
    "        # recurcive call\n",
    "        quickSortSeq(arr, low, pi)\n",
    "        quickSortSeq(arr, pi + 1, high)\n",
    "\n",
    "@njit(parallel=True)\n",
    "def quickSortPar(arr, low, high):\n",
    "    if low < high:\n",
    "        i = low\n",
    "        j = high\n",
    "        pivot = arr[(i + j) // 2]\n",
    "        while True:\n",
    "            while arr[i] < pivot:\n",
    "                i = i + 1\n",
    "            while arr[j] > pivot:\n",
    "                j = j - 1\n",
    "\n",
    "            if i >= j:\n",
    "                break\n",
    "\n",
    "            arr[i], arr[j] = arr[j], arr[i]\n",
    "            i = i + 1\n",
    "            j = j - 1\n",
    "        pi = j\n",
    "\n",
    "        for id in prange(2):\n",
    "            if (id == 0):\n",
    "                quickSortSeq(arr, low, pi)\n",
    "            else:\n",
    "                quickSortSeq(arr, pi + 1, high)"
   ]
  },
  {
   "cell_type": "code",
   "execution_count": 115,
   "id": "5af99f69-0589-4f45-bb51-e6546a6c854b",
   "metadata": {},
   "outputs": [
    {
     "name": "stdout",
     "output_type": "stream",
     "text": [
      "[18 78 16 68 65  4  1 94 69 88]\n"
     ]
    }
   ],
   "source": [
    "arr = createRandomArr(10)\n",
    "print(arr)"
   ]
  },
  {
   "cell_type": "code",
   "execution_count": 116,
   "id": "bf43d912-358f-461c-a919-a5970e56a8aa",
   "metadata": {},
   "outputs": [
    {
     "name": "stdout",
     "output_type": "stream",
     "text": [
      "[ 1  4 16 18 65 68 69 78 88 94]\n"
     ]
    }
   ],
   "source": [
    "quickSortPar(arr, 0, len(arr)-1)\n",
    "print(arr)"
   ]
  },
  {
   "cell_type": "code",
   "execution_count": 117,
   "id": "783a3719-4ea9-47b9-b245-afdff825dd13",
   "metadata": {},
   "outputs": [],
   "source": [
    "def calcParTime1():\n",
    "    arr = createRandomArr(10)\n",
    "    quickSortPar(arr, 0, len(arr) - 1)\n",
    "    threads_n = 4\n",
    "    while (threads_n > 0):\n",
    "        numba.set_num_threads(threads_n)\n",
    "        full_time = 0\n",
    "        for it in range(ITERS):\n",
    "            arr = createRandomArr(N)\n",
    "            # print(arr)\n",
    "    \n",
    "            start_time = time.time()\n",
    "    \n",
    "            quickSortPar(arr, 0, len(arr) - 1)\n",
    "    \n",
    "            end_time = time.time()\n",
    "            elapsed_time = end_time - start_time;\n",
    "            # print(elapsed_time)\n",
    "            full_time += elapsed_time\n",
    "    \n",
    "            # print(arr)\n",
    "            if (not isArraySorted(arr)):\n",
    "                print(\"Massive is not sorted\\n\")\n",
    "            \n",
    "        full_time /= ITERS\n",
    "        print(f\"Time taken ({threads_n} threads):\", full_time, \"seconds\")\n",
    "        threads_n //= 2"
   ]
  },
  {
   "cell_type": "code",
   "execution_count": 118,
   "id": "98250307-06c8-4cdd-a0c0-01e9e17cbbe1",
   "metadata": {},
   "outputs": [
    {
     "name": "stdout",
     "output_type": "stream",
     "text": [
      "Time taken (4 threads): 0.0039040803909301757 seconds\n",
      "Time taken (2 threads): 0.003230011463165283 seconds\n",
      "Time taken (1 threads): 0.0037974953651428224 seconds\n",
      "Time taken (4 threads): 0.00449885368347168 seconds\n",
      "Time taken (2 threads): 0.003260934352874756 seconds\n",
      "Time taken (1 threads): 0.003692772388458252 seconds\n",
      "Time taken (4 threads): 0.0036490726470947265 seconds\n",
      "Time taken (2 threads): 0.0030921816825866697 seconds\n",
      "Time taken (1 threads): 0.003779768943786621 seconds\n"
     ]
    }
   ],
   "source": [
    "N = 100000\n",
    "ITERS = 100\n",
    "\n",
    "config.THREADING_LAYER = 'omp'\n",
    "config.NUMBA_DEFAULT_NUM_THREADS = 4\n",
    "\n",
    "for i in range(3):\n",
    "    calcParTime1()"
   ]
  },
  {
   "cell_type": "markdown",
   "id": "6ae4a072-c03f-4d38-b9b7-1e480ce2315e",
   "metadata": {},
   "source": [
    "# numba.openmp"
   ]
  },
  {
   "cell_type": "code",
   "execution_count": 15,
   "id": "caabb21a-3557-4561-8295-b4c26717ef94",
   "metadata": {},
   "outputs": [
    {
     "name": "stdout",
     "output_type": "stream",
     "text": [
      "omp_get_thread_num() = 3\n",
      "omp_get_max_threads() = 4\n",
      "omp_get_num_threads() = 4\n",
      "omp_get_thread_num() = 0\n",
      "omp_get_thread_num() = 2\n",
      "omp_get_thread_num() = 1\n"
     ]
    }
   ],
   "source": [
    "from numba import njit\n",
    "from numba.openmp import openmp_context as openmp\n",
    "from numba.openmp import omp_get_thread_num, omp_get_num_threads, omp_set_num_threads, omp_get_max_threads, omp_get_wtime\n",
    "import numpy as np\n",
    "from numba import njit\n",
    "from numba.openmp import openmp_context as openmp\n",
    "import random\n",
    "\n",
    "def isArraySorted(arr):\n",
    "    n = len(arr)\n",
    "    if (n > 0):\n",
    "        prev = arr[0]\n",
    "        for i in range(n):\n",
    "            if (arr[i] < prev):\n",
    "                return False\n",
    "    return True;\n",
    "\n",
    "def createRandomArr(n):\n",
    "    return np.random.randint(0, 100, n)\n",
    "    \n",
    "@njit\n",
    "def getOmpTime():\n",
    "    return omp_get_wtime()\n",
    "\n",
    "@njit        \n",
    "def printNumThreads():\n",
    "    with openmp('parallel'):\n",
    "        ID = omp_get_thread_num()\n",
    "        if (ID == 0):\n",
    "            print(\"omp_get_max_threads() =\", omp_get_max_threads())\n",
    "            print(\"omp_get_num_threads() =\", omp_get_num_threads())\n",
    "        print(\"omp_get_thread_num() =\", ID)\n",
    "\n",
    "@njit\n",
    "def printThreadNum():\n",
    "    print(\"thread_num = \", omp_get_thread_num());\n",
    "\n",
    "@njit\n",
    "def quickSortPar(arr, low, high, max_d, d = 0):\n",
    "    if (low < high):\n",
    "        # partitionHoar\n",
    "        i = low\n",
    "        j = high\n",
    "        pivot = arr[(i + j) // 2]\n",
    "        while (1):\n",
    "            while (arr[i] < pivot):\n",
    "                i = i + 1\n",
    "            while (arr[j] > pivot):\n",
    "                j = j - 1\n",
    "        \n",
    "            if (i >= j):\n",
    "                break\n",
    "        \n",
    "            arr[i], arr[j] = arr[j], arr[i]\n",
    "            i = i + 1\n",
    "            j = j - 1\n",
    "        pi = j\n",
    "\n",
    "        #print(\"omp_get_thread_num() = \", omp_get_thread_num());\n",
    "        #print(arr)\n",
    "        # recurcive call\n",
    "        if (d < max_d):\n",
    "            #arr1 = None\n",
    "            #arr2 = None\n",
    "            #with openmp(\"parallel sections\"):\n",
    "            with openmp(\"task shared(arr)\"):\n",
    "                #print(\"omp_get_thread_num() = \", omp_get_thread_num());\n",
    "                #print(arr)\n",
    "                quickSortPar(arr, low, pi, max_d, d + 1)\n",
    "                #quickSortSeq(arr, low, pi)\n",
    "            with openmp(\"task shared(arr)\"):   \n",
    "                #print(\"omp_get_thread_num() = \", omp_get_thread_num());\n",
    "                #print(arr)\n",
    "                quickSortPar(arr, pi + 1, high, max_d, d + 1)  \n",
    "                #quickSortSeq(arr, pi + 1, high)\n",
    "            with openmp(\"taskwait\"):\n",
    "                return\n",
    "                #res_arr = arr1 + arr2\n",
    "        else:\n",
    "            quickSortPar(arr, low, pi, max_d, d + 1)\n",
    "            quickSortPar(arr, pi + 1, high, max_d, d + 1)\n",
    "        #quickSortPar(arr, low, pi)\n",
    "        #quickSortPar(arr, pi + 1, high)\n",
    "\n",
    "@njit\n",
    "def quickSortParHelp(arr, max_d):\n",
    "    with openmp(\"parallel shared(arr)\"):\n",
    "        #ID = omp_get_thread_num()\n",
    "        #print(\"omp_get_thread_num() =\", ID)\n",
    "        with openmp(\"single\"):\n",
    "            #print(\"num_threads = \", omp_get_num_threads())\n",
    "            #ID2 = omp_get_thread_num()\n",
    "            #print(\"single omp_get_thread_num() =\", ID2)\n",
    "            quickSortPar(arr, 0, len(arr)-1, max_d)\n",
    "            #print(\"arr after quickSortPar=\", arr)\n",
    "            #with openmp(\"taskwait\"):\n",
    "                #print(\"arr after quickSortPar=\", arr)\n",
    "                #return arr\n",
    "\n",
    "printNumThreads()"
   ]
  },
  {
   "cell_type": "code",
   "execution_count": 18,
   "id": "1a8eb717-bb29-4fee-9674-1690f9eb14bd",
   "metadata": {},
   "outputs": [
    {
     "name": "stdout",
     "output_type": "stream",
     "text": [
      "[37  8 90 54 70 15]\n",
      "[ 8 15 37 54 70 90]\n",
      "Massive [ 8 15 37 54 70 90] IS sorted\n",
      "\n"
     ]
    }
   ],
   "source": [
    "arr = createRandomArr(6)\n",
    "print(arr)\n",
    "quickSortParHelp(arr, 1)\n",
    "print(arr)\n",
    "if (isArraySorted(arr)):\n",
    "    print(\"Massive\", arr, \"IS sorted\\n\")\n",
    "if (not isArraySorted(arr)):\n",
    "    print(\"Massive is not sorted\\n\")"
   ]
  },
  {
   "cell_type": "code",
   "execution_count": 11,
   "id": "8dbca47a-ae23-4002-9f1d-94204606bad0",
   "metadata": {},
   "outputs": [
    {
     "name": "stdout",
     "output_type": "stream",
     "text": [
      "[40 39 96 23 51  6 51 39 14 42]\n",
      "[40 39 42 23 14  6 39 51 51 96]\n"
     ]
    }
   ],
   "source": [
    "arr = createRandomArr(10)\n",
    "print(arr)\n",
    "with openmp(\"parallel\"):\n",
    "    with openmp(\"single\"):\n",
    "        quickSortPar(arr, 0, len(arr)-1, 2)\n",
    "print(arr)"
   ]
  },
  {
   "cell_type": "code",
   "execution_count": 3,
   "id": "cfcba242-5ea5-4b1d-8314-78a2fe6b20ff",
   "metadata": {},
   "outputs": [
    {
     "name": "stdout",
     "output_type": "stream",
     "text": [
      "omp_get_thread_num() = 3\n",
      "num_threads =  4\n",
      "single omp_get_thread_num() = 3\n",
      "id = 3 n = 2\n",
      "omp_get_thread_num() = 2\n",
      "id = 2 n = 1\n",
      "omp_get_thread_num() = 1\n",
      "id = 1 n = -1\n",
      "id = 3 n = 0\n",
      "omp_get_thread_num() = 0\n",
      "id = 2 n = -2\n"
     ]
    }
   ],
   "source": [
    "@njit\n",
    "def test3(n):\n",
    "    ID = omp_get_thread_num()\n",
    "    print(\"id =\", ID, \"n =\", n)\n",
    "    if (n > 0):\n",
    "        with openmp(\"task private(n)\"):\n",
    "            test3(n-1)\n",
    "        with openmp(\"task private(n)\"):\n",
    "            test3(n-2)\n",
    "\n",
    "@njit\n",
    "def test2():\n",
    "    with openmp('parallel'):\n",
    "        ID = omp_get_thread_num()\n",
    "        print(\"omp_get_thread_num() =\", ID)\n",
    "        with openmp(\"single\"):\n",
    "            print(\"num_threads = \", omp_get_num_threads())\n",
    "            ID2 = omp_get_thread_num()\n",
    "            print(\"single omp_get_thread_num() =\", ID2)\n",
    "            test3(2)\n",
    "            \n",
    "\n",
    "\n",
    "test2()"
   ]
  },
  {
   "cell_type": "code",
   "execution_count": 5,
   "id": "3ddbe9be-bb72-4eb7-ba29-a183231c366f",
   "metadata": {},
   "outputs": [
    {
     "name": "stdout",
     "output_type": "stream",
     "text": [
      "[30 66  6 61 81 11  2 95 77 90]\n",
      "thread_num =  0\n",
      "omp_get_thread_num() =  0\n",
      "omp_get_thread_num() =  0\n",
      "omp_get_thread_num() =  0\n",
      "omp_get_thread_num() =  0\n",
      "omp_get_thread_num() =  0\n",
      "omp_get_thread_num() =  0\n",
      "[30 66  6 61 77 11  2 95 81 90]\n"
     ]
    }
   ],
   "source": [
    "#setNumThreads(4)\n",
    "\n",
    "arr = createRandomArr(10)\n",
    "print(arr)\n",
    "with openmp(\"parallel\"):\n",
    "    printThreadNum()\n",
    "    with openmp(\"single\"):\n",
    "        quickSortPar(arr, 0, len(arr)-1, 2)\n",
    "print(arr)"
   ]
  },
  {
   "cell_type": "code",
   "execution_count": null,
   "id": "dbaafc0e-2239-4ba8-83f8-3b21f283bd38",
   "metadata": {},
   "outputs": [],
   "source": []
  },
  {
   "cell_type": "code",
   "execution_count": 19,
   "id": "9c860dbf-7d22-48c3-a830-a8d5e6bb85b3",
   "metadata": {},
   "outputs": [],
   "source": [
    "@njit\n",
    "def setNumThreads(n):\n",
    "    omp_set_num_threads(n)\n",
    "\n",
    "\n",
    "def calcParTime2():\n",
    "    arr = createRandomArr(10)\n",
    "    #with openmp(\"parallel\"):\n",
    "    #    with openmp(\"single\"):\n",
    "    #        quickSortPar(arr, 0, len(arr)-1, 2)\n",
    "    quickSortParHelp(arr, 2)\n",
    "    threads_n = 4\n",
    "    while (threads_n > 0):\n",
    "        setNumThreads(threads_n)\n",
    "        full_time = 0\n",
    "        for it in range(ITERS):\n",
    "            arr = createRandomArr(N)\n",
    "            # print(arr)\n",
    "\n",
    "            max_d = 0\n",
    "            sum_th_n = 1\n",
    "            cur_th_n = 1\n",
    "            while (sum_th_n < threads_n):\n",
    "                cur_th_n *= 2\n",
    "                sum_th_n += cur_th_n\n",
    "                max_d += 1\n",
    "    \n",
    "            start_time = getOmpTime()\n",
    "    \n",
    "            #quickSortPar(arr, 0, len(arr) - 1)\n",
    "            #with openmp(\"parallel\"):\n",
    "            #    with openmp(\"single\"):\n",
    "            #        quickSortPar(arr, 0, len(arr)-1, max_d)\n",
    "            quickSortParHelp(arr, max_d)\n",
    "    \n",
    "            end_time = getOmpTime()\n",
    "            elapsed_time = end_time - start_time;\n",
    "            # print(elapsed_time)\n",
    "            full_time += elapsed_time\n",
    "    \n",
    "            # print(arr)\n",
    "            #if (not isArraySorted(arr)):\n",
    "            #    print(\"Massive is not sorted\\n\")\n",
    "            \n",
    "        full_time /= ITERS\n",
    "        print(f\"Time taken ({threads_n} threads):\", full_time, \"seconds\")\n",
    "        threads_n //= 2"
   ]
  },
  {
   "cell_type": "code",
   "execution_count": 29,
   "id": "e04737a4-0a23-4f38-9640-2e87c60a0bfc",
   "metadata": {},
   "outputs": [
    {
     "name": "stdout",
     "output_type": "stream",
     "text": [
      "Time taken (4 threads): 0.003495000600814819 seconds\n",
      "Time taken (2 threads): 0.003810269832611084 seconds\n",
      "Time taken (1 threads): 0.00428169846534729 seconds\n",
      "Time taken (4 threads): 0.003446553945541382 seconds\n",
      "Time taken (2 threads): 0.0036129355430603027 seconds\n",
      "Time taken (1 threads): 0.0045724356174469 seconds\n",
      "Time taken (4 threads): 0.0034904921054840087 seconds\n",
      "Time taken (2 threads): 0.004006369113922119 seconds\n",
      "Time taken (1 threads): 0.004559621810913086 seconds\n"
     ]
    }
   ],
   "source": [
    "N = 100000\n",
    "ITERS = 200\n",
    "\n",
    "for i in range(3):\n",
    "    calcParTime2()"
   ]
  },
  {
   "cell_type": "markdown",
   "id": "aa426f9c-3e88-42fd-8aa5-c798afc2b0f5",
   "metadata": {},
   "source": [
    "# Testing"
   ]
  },
  {
   "cell_type": "code",
   "execution_count": 15,
   "id": "6a71f7af-a3a7-4970-97d4-f93b111a7b1f",
   "metadata": {},
   "outputs": [
    {
     "name": "stdout",
     "output_type": "stream",
     "text": [
      "omp_get_thread_num() =omp_get_thread_num() = 3\n",
      "omp_get_thread_num() = 1\n",
      " 2\n",
      "omp_get_max_threads() = 4\n",
      "omp_get_num_threads() = 4\n",
      "omp_get_thread_num() = 0\n"
     ]
    }
   ],
   "source": [
    "@njit        \n",
    "def printNumThreads():\n",
    "    with openmp('parallel'):\n",
    "        ID = omp_get_thread_num()\n",
    "        if (ID == 0):\n",
    "            print(\"omp_get_max_threads() =\", omp_get_max_threads())\n",
    "            print(\"omp_get_num_threads() =\", omp_get_num_threads())\n",
    "        print(\"omp_get_thread_num() =\", ID)\n",
    "\n",
    "printNumThreads()"
   ]
  },
  {
   "cell_type": "code",
   "execution_count": 17,
   "id": "a6d8a33f-759a-4b75-9202-4c22183dcdae",
   "metadata": {},
   "outputs": [
    {
     "ename": "TypingError",
     "evalue": "Failed in nopython mode pipeline (step: Handle with contexts)\nFailed in nopython mode pipeline (step: Handle with contexts)\nFailed in nopython mode pipeline (step: nopython frontend)\nUntyped global name 'createRandomArr': Cannot determine Numba type of <class 'function'>\n\nFile \"../../../tmp/ipykernel_489/4166193997.py\", line 3:\n<source missing, REPL/exec in use?>\n",
     "output_type": "error",
     "traceback": [
      "\u001b[0;31m---------------------------------------------------------------------------\u001b[0m",
      "\u001b[0;31mTypingError\u001b[0m                               Traceback (most recent call last)",
      "Cell \u001b[0;32mIn[17], line 12\u001b[0m\n\u001b[1;32m      9\u001b[0m             quickSortPar(arr, \u001b[38;5;241m0\u001b[39m, \u001b[38;5;28mlen\u001b[39m(arr)\u001b[38;5;241m-\u001b[39m\u001b[38;5;241m1\u001b[39m, \u001b[38;5;241m2\u001b[39m)\n\u001b[1;32m     10\u001b[0m     \u001b[38;5;28mprint\u001b[39m(arr)\n\u001b[0;32m---> 12\u001b[0m \u001b[43mtest1\u001b[49m\u001b[43m(\u001b[49m\u001b[43m)\u001b[49m\n",
      "File \u001b[0;32m~/pyomp/numbaWithOpenmp/numba/core/dispatcher.py:468\u001b[0m, in \u001b[0;36m_DispatcherBase._compile_for_args\u001b[0;34m(self, *args, **kws)\u001b[0m\n\u001b[1;32m    464\u001b[0m         msg \u001b[38;5;241m=\u001b[39m (\u001b[38;5;124mf\u001b[39m\u001b[38;5;124m\"\u001b[39m\u001b[38;5;132;01m{\u001b[39;00m\u001b[38;5;28mstr\u001b[39m(e)\u001b[38;5;241m.\u001b[39mrstrip()\u001b[38;5;132;01m}\u001b[39;00m\u001b[38;5;124m \u001b[39m\u001b[38;5;130;01m\\n\u001b[39;00m\u001b[38;5;130;01m\\n\u001b[39;00m\u001b[38;5;124mThis error may have been caused \u001b[39m\u001b[38;5;124m\"\u001b[39m\n\u001b[1;32m    465\u001b[0m                \u001b[38;5;124mf\u001b[39m\u001b[38;5;124m\"\u001b[39m\u001b[38;5;124mby the following argument(s):\u001b[39m\u001b[38;5;130;01m\\n\u001b[39;00m\u001b[38;5;132;01m{\u001b[39;00margs_str\u001b[38;5;132;01m}\u001b[39;00m\u001b[38;5;130;01m\\n\u001b[39;00m\u001b[38;5;124m\"\u001b[39m)\n\u001b[1;32m    466\u001b[0m         e\u001b[38;5;241m.\u001b[39mpatch_message(msg)\n\u001b[0;32m--> 468\u001b[0m     \u001b[43merror_rewrite\u001b[49m\u001b[43m(\u001b[49m\u001b[43me\u001b[49m\u001b[43m,\u001b[49m\u001b[43m \u001b[49m\u001b[38;5;124;43m'\u001b[39;49m\u001b[38;5;124;43mtyping\u001b[39;49m\u001b[38;5;124;43m'\u001b[39;49m\u001b[43m)\u001b[49m\n\u001b[1;32m    469\u001b[0m \u001b[38;5;28;01mexcept\u001b[39;00m errors\u001b[38;5;241m.\u001b[39mUnsupportedError \u001b[38;5;28;01mas\u001b[39;00m e:\n\u001b[1;32m    470\u001b[0m     \u001b[38;5;66;03m# Something unsupported is present in the user code, add help info\u001b[39;00m\n\u001b[1;32m    471\u001b[0m     error_rewrite(e, \u001b[38;5;124m'\u001b[39m\u001b[38;5;124munsupported_error\u001b[39m\u001b[38;5;124m'\u001b[39m)\n",
      "File \u001b[0;32m~/pyomp/numbaWithOpenmp/numba/core/dispatcher.py:409\u001b[0m, in \u001b[0;36m_DispatcherBase._compile_for_args.<locals>.error_rewrite\u001b[0;34m(e, issue_type)\u001b[0m\n\u001b[1;32m    407\u001b[0m     \u001b[38;5;28;01mraise\u001b[39;00m e\n\u001b[1;32m    408\u001b[0m \u001b[38;5;28;01melse\u001b[39;00m:\n\u001b[0;32m--> 409\u001b[0m     \u001b[38;5;28;01mraise\u001b[39;00m e\u001b[38;5;241m.\u001b[39mwith_traceback(\u001b[38;5;28;01mNone\u001b[39;00m)\n",
      "\u001b[0;31mTypingError\u001b[0m: Failed in nopython mode pipeline (step: Handle with contexts)\nFailed in nopython mode pipeline (step: Handle with contexts)\nFailed in nopython mode pipeline (step: nopython frontend)\nUntyped global name 'createRandomArr': Cannot determine Numba type of <class 'function'>\n\nFile \"../../../tmp/ipykernel_489/4166193997.py\", line 3:\n<source missing, REPL/exec in use?>\n"
     ]
    }
   ],
   "source": [
    "@njit\n",
    "def test1():\n",
    "    arr = createRandomArr(10)\n",
    "    print(arr)\n",
    "    with openmp(\"parallel\"):\n",
    "        ID = omp_get_thread_num()\n",
    "        print(\"omp_get_thread_num() = \", ID);\n",
    "        with openmp(\"single\"):\n",
    "            quickSortPar(arr, 0, len(arr)-1, 2)\n",
    "    print(arr)\n",
    "\n",
    "test1()"
   ]
  },
  {
   "cell_type": "code",
   "execution_count": 196,
   "id": "3080d001-9722-4d58-a616-1b12bb88a6a8",
   "metadata": {},
   "outputs": [],
   "source": [
    "@njit\n",
    "def getFreeThreads(threads):\n",
    "    id1 = -1;\n",
    "    id2 = -1;\n",
    "    for i in range(len(threads)):\n",
    "        if (threads[i]):\n",
    "            if (id1 == -1):\n",
    "                id1 = i\n",
    "            else:\n",
    "                id2 = i\n",
    "        if (not id1 == -1 and not id2 == -1):\n",
    "            break;\n",
    "    return id1, id2\n",
    "        \n",
    "\n",
    "@njit\n",
    "def quickSortPar(arr, low, high, threads):\n",
    "    if (low < high):\n",
    "        # partitionHoar\n",
    "        i = low\n",
    "        j = high\n",
    "        pivot = arr[(i + j) // 2]\n",
    "        while (1):\n",
    "            while (arr[i] < pivot):\n",
    "                i = i + 1\n",
    "            while (arr[j] > pivot):\n",
    "                j = j - 1\n",
    "        \n",
    "            if (i >= j):\n",
    "                break\n",
    "        \n",
    "            arr[i], arr[j] = arr[j], arr[i]\n",
    "            i = i + 1\n",
    "            j = j - 1\n",
    "        pi = j\n",
    "\n",
    "        threadID = omp_get_thread_num()\n",
    "        #print(\"start:\", threadID)\n",
    "        threads[threadID] = True;\n",
    "        #print(\"HERE2\", threads)\n",
    "        id1, id2 = getFreeThreads(threads)\n",
    "        #print(id1, id2)\n",
    "        # recurcive call\n",
    "        if (not id1 == -1 and not id2 == -1):\n",
    "            threads[id1] = False\n",
    "            threads[id2] = False\n",
    "            #print(\"HERE\", threads)\n",
    "            with openmp(\"parallel shared(arr, low, pi, high, threads)\"):\n",
    "                threadID = omp_get_thread_num()\n",
    "                #print(threadID)\n",
    "                if (threadID == id1):\n",
    "                    quickSortPar(arr, low, pi, threads)\n",
    "                elif (threadID == id2):\n",
    "                    quickSortPar(arr, low, pi, threads)\n",
    "        else:\n",
    "            quickSortPar(arr, low, pi, threads)\n",
    "            quickSortPar(arr, pi + 1, high, threads)\n",
    "        '''\n",
    "        if (d < max_d):\n",
    "            #with openmp(\"parallel\"):\n",
    "            with openmp(\"task shared(arr, low, pi)\"):\n",
    "                quickSortPar(arr, low, pi, max_d, d + 1)\n",
    "                #quickSortSeq(arr, low, pi)\n",
    "            with openmp(\"task shared(arr, pi, high)\"):    \n",
    "                quickSortPar(arr, pi + 1, high, max_d, d + 1)  \n",
    "                #quickSortSeq(arr, pi + 1, high)\n",
    "        else:\n",
    "            quickSortPar(arr, low, pi, max_d, d + 1)\n",
    "            quickSortPar(arr, pi + 1, high, max_d, d + 1)\n",
    "        '''\n",
    "        #quickSortPar(arr, low, pi)\n",
    "        #quickSortPar(arr, pi + 1, high)"
   ]
  }
 ],
 "metadata": {
  "kernelspec": {
   "display_name": "Python 3 (ipykernel)",
   "language": "python",
   "name": "python3"
  },
  "language_info": {
   "codemirror_mode": {
    "name": "ipython",
    "version": 3
   },
   "file_extension": ".py",
   "mimetype": "text/x-python",
   "name": "python",
   "nbconvert_exporter": "python",
   "pygments_lexer": "ipython3",
   "version": "3.9.18"
  }
 },
 "nbformat": 4,
 "nbformat_minor": 5
}

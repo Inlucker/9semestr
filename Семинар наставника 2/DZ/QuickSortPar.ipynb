{
 "cells": [
  {
   "cell_type": "markdown",
   "id": "09e3a2de-9483-4efd-90d1-2807998ca0da",
   "metadata": {},
   "source": [
    "# numba"
   ]
  },
  {
   "cell_type": "code",
   "execution_count": 39,
   "id": "8a9f7a02-a47f-47c6-b5c7-cb3c3b6fe474",
   "metadata": {},
   "outputs": [],
   "source": [
    "import numpy as np\n",
    "from numba import config, njit, prange\n",
    "import time\n",
    "import numba\n",
    "\n",
    "def isArraySorted(arr):\n",
    "    n = len(arr)\n",
    "    if (n > 0):\n",
    "        prev = arr[0]\n",
    "        for i in range(n):\n",
    "            if (arr[i] < prev):\n",
    "                return False\n",
    "    return True;\n",
    "\n",
    "def createRandomArr(n):\n",
    "    return np.random.randint(0, 100, n)\n",
    "\n",
    "N = 10000\n",
    "ITERS = 100\n",
    "\n",
    "@njit\n",
    "def quickSortSeq(arr, low, high):\n",
    "    if (low < high):\n",
    "        # partitionHoar\n",
    "        i = low\n",
    "        j = high\n",
    "        pivot = arr[(i + j) // 2]\n",
    "        while (1):\n",
    "            while (arr[i] < pivot):\n",
    "                i = i + 1\n",
    "            while (arr[j] > pivot):\n",
    "                j = j - 1\n",
    "\n",
    "            if (i >= j):\n",
    "                break\n",
    "\n",
    "            arr[i], arr[j] = arr[j], arr[i]\n",
    "            i = i + 1\n",
    "            j = j - 1\n",
    "        pi = j\n",
    "\n",
    "        # recurcive call\n",
    "        quickSortSeq(arr, low, pi)\n",
    "        quickSortSeq(arr, pi + 1, high)\n",
    "\n",
    "@njit(parallel=True)\n",
    "def quickSortPar(arr, low, high):\n",
    "    if low < high:\n",
    "        i = low\n",
    "        j = high\n",
    "        pivot = arr[(i + j) // 2]\n",
    "        while True:\n",
    "            while arr[i] < pivot:\n",
    "                i = i + 1\n",
    "            while arr[j] > pivot:\n",
    "                j = j - 1\n",
    "\n",
    "            if i >= j:\n",
    "                break\n",
    "\n",
    "            arr[i], arr[j] = arr[j], arr[i]\n",
    "            i = i + 1\n",
    "            j = j - 1\n",
    "        pi = j\n",
    "\n",
    "        for id in prange(2):\n",
    "            if (id == 0):\n",
    "                quickSortSeq(arr, low, pi)\n",
    "            else:\n",
    "                quickSortSeq(arr, pi + 1, high)"
   ]
  },
  {
   "cell_type": "code",
   "execution_count": 40,
   "id": "5af99f69-0589-4f45-bb51-e6546a6c854b",
   "metadata": {},
   "outputs": [
    {
     "name": "stdout",
     "output_type": "stream",
     "text": [
      "[17 51 92  8 33 94  3 82 36 45]\n"
     ]
    }
   ],
   "source": [
    "arr = createRandomArr(10)\n",
    "print(arr)"
   ]
  },
  {
   "cell_type": "code",
   "execution_count": 41,
   "id": "bf43d912-358f-461c-a919-a5970e56a8aa",
   "metadata": {},
   "outputs": [
    {
     "name": "stdout",
     "output_type": "stream",
     "text": [
      "[ 3  8 17 33 36 45 51 82 92 94]\n"
     ]
    }
   ],
   "source": [
    "quickSortPar(arr, 0, len(arr)-1)\n",
    "print(arr)"
   ]
  },
  {
   "cell_type": "code",
   "execution_count": 42,
   "id": "783a3719-4ea9-47b9-b245-afdff825dd13",
   "metadata": {},
   "outputs": [],
   "source": [
    "def calcParTime1():\n",
    "    arr = createRandomArr(10)\n",
    "    quickSortPar(arr, 0, len(arr) - 1)\n",
    "    threads_n = 4\n",
    "    while (threads_n > 0):\n",
    "        numba.set_num_threads(threads_n)\n",
    "        full_time = 0\n",
    "        for it in range(ITERS):\n",
    "            arr = createRandomArr(N)\n",
    "            # print(arr)\n",
    "    \n",
    "            start_time = time.time()\n",
    "    \n",
    "            quickSortPar(arr, 0, len(arr) - 1)\n",
    "    \n",
    "            end_time = time.time()\n",
    "            elapsed_time = end_time - start_time;\n",
    "            # print(elapsed_time)\n",
    "            full_time += elapsed_time\n",
    "    \n",
    "            # print(arr)\n",
    "            if (not isArraySorted(arr)):\n",
    "                print(\"Massive is not sorted\\n\")\n",
    "            \n",
    "        full_time /= ITERS\n",
    "        print(f\"Time taken ({threads_n} threads):\", full_time, \"seconds\")\n",
    "        threads_n //= 2"
   ]
  },
  {
   "cell_type": "code",
   "execution_count": 48,
   "id": "98250307-06c8-4cdd-a0c0-01e9e17cbbe1",
   "metadata": {},
   "outputs": [
    {
     "name": "stdout",
     "output_type": "stream",
     "text": [
      "Time taken (4 threads): 0.0005791831016540527 seconds\n",
      "Time taken (2 threads): 0.00038124799728393553 seconds\n",
      "Time taken (1 threads): 0.0003824925422668457 seconds\n",
      "Time taken (4 threads): 0.00037195682525634763 seconds\n",
      "Time taken (2 threads): 0.0003602170944213867 seconds\n",
      "Time taken (1 threads): 0.00037729740142822266 seconds\n",
      "Time taken (4 threads): 0.0003763461112976074 seconds\n",
      "Time taken (2 threads): 0.00038551807403564454 seconds\n",
      "Time taken (1 threads): 0.00039507389068603514 seconds\n"
     ]
    }
   ],
   "source": [
    "N = 10000\n",
    "ITERS = 100\n",
    "\n",
    "config.THREADING_LAYER = 'omp'\n",
    "config.NUMBA_DEFAULT_NUM_THREADS = 4\n",
    "\n",
    "for i in range(3):\n",
    "    calcParTime1()"
   ]
  },
  {
   "cell_type": "markdown",
   "id": "6ae4a072-c03f-4d38-b9b7-1e480ce2315e",
   "metadata": {},
   "source": [
    "# numba.openmp"
   ]
  },
  {
   "cell_type": "code",
   "execution_count": 49,
   "id": "caabb21a-3557-4561-8295-b4c26717ef94",
   "metadata": {},
   "outputs": [],
   "source": [
    "from numba import njit\n",
    "from numba.openmp import openmp_context as openmp\n",
    "from numba.openmp import omp_get_thread_num, omp_get_num_threads, omp_set_num_threads, omp_get_max_threads, omp_get_wtime\n",
    "import numpy as np\n",
    "from numba import njit\n",
    "from numba.openmp import openmp_context as openmp\n",
    "import random\n",
    "\n",
    "@njit\n",
    "def quickSortPar(arr, low, high, max_d, d = 0):\n",
    "    if (low < high):\n",
    "        # partitionHoar\n",
    "        i = low\n",
    "        j = high\n",
    "        pivot = arr[(i + j) // 2]\n",
    "        while (1):\n",
    "            while (arr[i] < pivot):\n",
    "                i = i + 1\n",
    "            while (arr[j] > pivot):\n",
    "                j = j - 1\n",
    "        \n",
    "            if (i >= j):\n",
    "                break\n",
    "        \n",
    "            arr[i], arr[j] = arr[j], arr[i]\n",
    "            i = i + 1\n",
    "            j = j - 1\n",
    "        pi = j\n",
    "\n",
    "        # recurcive call\n",
    "        if (d < max_d):\n",
    "            #with openmp(\"parallel sections\"):\n",
    "            with openmp(\"task shared(arr, low, pi)\"):\n",
    "                quickSortPar(arr, low, pi, max_d, d + 1)\n",
    "                #quickSortSeq(arr, low, pi)\n",
    "            with openmp(\"task shared(arr, pi, high)\"):    \n",
    "                quickSortPar(arr, pi + 1, high, max_d, d + 1)  \n",
    "                #quickSortSeq(arr, pi + 1, high)\n",
    "        else:\n",
    "            quickSortPar(arr, low, pi, max_d, d + 1)\n",
    "            quickSortPar(arr, pi + 1, high, max_d, d + 1)\n",
    "        #quickSortPar(arr, low, pi)\n",
    "        #quickSortPar(arr, pi + 1, high)"
   ]
  },
  {
   "cell_type": "code",
   "execution_count": 51,
   "id": "3ddbe9be-bb72-4eb7-ba29-a183231c366f",
   "metadata": {},
   "outputs": [
    {
     "name": "stdout",
     "output_type": "stream",
     "text": [
      "[ 7 72 72 88 57 58 87 25 26 80]\n",
      "[ 7 25 26 57 58 72 72 80 87 88]\n"
     ]
    }
   ],
   "source": [
    "arr = createRandomArr(10)\n",
    "print(arr)\n",
    "with openmp(\"parallel\"):\n",
    "    with openmp(\"single\"):\n",
    "        quickSortPar(arr, 0, len(arr)-1, 2)\n",
    "print(arr)"
   ]
  },
  {
   "cell_type": "code",
   "execution_count": 60,
   "id": "9c860dbf-7d22-48c3-a830-a8d5e6bb85b3",
   "metadata": {},
   "outputs": [],
   "source": [
    "@njit\n",
    "def setNumThreads(n):\n",
    "    omp_set_num_threads(n)\n",
    "\n",
    "\n",
    "def calcParTime2():\n",
    "    arr = createRandomArr(10)\n",
    "    with openmp(\"parallel\"):\n",
    "        with openmp(\"single\"):\n",
    "            quickSortPar(arr, 0, len(arr)-1, 2)\n",
    "    threads_n = 4\n",
    "    while (threads_n > 0):\n",
    "        setNumThreads(threads_n)\n",
    "        full_time = 0\n",
    "        for it in range(ITERS):\n",
    "            arr = createRandomArr(N)\n",
    "            # print(arr)\n",
    "\n",
    "            max_d = 0\n",
    "            sum_th_n = 1\n",
    "            cur_th_n = 1\n",
    "            while (sum_th_n < threads_n):\n",
    "                cur_th_n *= 2\n",
    "                sum_th_n += cur_th_n\n",
    "                max_d += 1\n",
    "    \n",
    "            start_time = time.time()\n",
    "    \n",
    "            #quickSortPar(arr, 0, len(arr) - 1)\n",
    "            with openmp(\"parallel\"):\n",
    "                with openmp(\"single\"):\n",
    "                    quickSortPar(arr, 0, len(arr)-1, max_d)\n",
    "    \n",
    "            end_time = time.time()\n",
    "            elapsed_time = end_time - start_time;\n",
    "            # print(elapsed_time)\n",
    "            full_time += elapsed_time\n",
    "    \n",
    "            # print(arr)\n",
    "            if (not isArraySorted(arr)):\n",
    "                print(\"Massive is not sorted\\n\")\n",
    "            \n",
    "        full_time /= ITERS\n",
    "        print(f\"Time taken ({threads_n} threads):\", full_time, \"seconds\")\n",
    "        threads_n //= 2"
   ]
  },
  {
   "cell_type": "code",
   "execution_count": 62,
   "id": "e04737a4-0a23-4f38-9640-2e87c60a0bfc",
   "metadata": {},
   "outputs": [
    {
     "name": "stdout",
     "output_type": "stream",
     "text": [
      "Time taken (4 threads): 0.0005464339256286621 seconds\n",
      "Time taken (2 threads): 0.0004477691650390625 seconds\n",
      "Time taken (1 threads): 0.00044672250747680665 seconds\n",
      "Time taken (4 threads): 0.00043246984481811525 seconds\n",
      "Time taken (2 threads): 0.0004343700408935547 seconds\n",
      "Time taken (1 threads): 0.0004311656951904297 seconds\n",
      "Time taken (4 threads): 0.00044522285461425783 seconds\n",
      "Time taken (2 threads): 0.00044421911239624025 seconds\n",
      "Time taken (1 threads): 0.00045875787734985353 seconds\n"
     ]
    }
   ],
   "source": [
    "N = 10000\n",
    "ITERS = 100\n",
    "\n",
    "config.THREADING_LAYER = 'omp'\n",
    "config.NUMBA_DEFAULT_NUM_THREADS = 4\n",
    "\n",
    "for i in range(3):\n",
    "    calcParTime2()"
   ]
  },
  {
   "cell_type": "markdown",
   "id": "aa426f9c-3e88-42fd-8aa5-c798afc2b0f5",
   "metadata": {
    "jp-MarkdownHeadingCollapsed": true
   },
   "source": [
    "# Testing"
   ]
  },
  {
   "cell_type": "code",
   "execution_count": 196,
   "id": "3080d001-9722-4d58-a616-1b12bb88a6a8",
   "metadata": {},
   "outputs": [],
   "source": [
    "@njit\n",
    "def getFreeThreads(threads):\n",
    "    id1 = -1;\n",
    "    id2 = -1;\n",
    "    for i in range(len(threads)):\n",
    "        if (threads[i]):\n",
    "            if (id1 == -1):\n",
    "                id1 = i\n",
    "            else:\n",
    "                id2 = i\n",
    "        if (not id1 == -1 and not id2 == -1):\n",
    "            break;\n",
    "    return id1, id2\n",
    "        \n",
    "\n",
    "@njit\n",
    "def quickSortPar(arr, low, high, threads):\n",
    "    if (low < high):\n",
    "        # partitionHoar\n",
    "        i = low\n",
    "        j = high\n",
    "        pivot = arr[(i + j) // 2]\n",
    "        while (1):\n",
    "            while (arr[i] < pivot):\n",
    "                i = i + 1\n",
    "            while (arr[j] > pivot):\n",
    "                j = j - 1\n",
    "        \n",
    "            if (i >= j):\n",
    "                break\n",
    "        \n",
    "            arr[i], arr[j] = arr[j], arr[i]\n",
    "            i = i + 1\n",
    "            j = j - 1\n",
    "        pi = j\n",
    "\n",
    "        threadID = omp_get_thread_num()\n",
    "        #print(\"start:\", threadID)\n",
    "        threads[threadID] = True;\n",
    "        #print(\"HERE2\", threads)\n",
    "        id1, id2 = getFreeThreads(threads)\n",
    "        #print(id1, id2)\n",
    "        # recurcive call\n",
    "        if (not id1 == -1 and not id2 == -1):\n",
    "            threads[id1] = False\n",
    "            threads[id2] = False\n",
    "            #print(\"HERE\", threads)\n",
    "            with openmp(\"parallel shared(arr, low, pi, high, threads)\"):\n",
    "                threadID = omp_get_thread_num()\n",
    "                #print(threadID)\n",
    "                if (threadID == id1):\n",
    "                    quickSortPar(arr, low, pi, threads)\n",
    "                elif (threadID == id2):\n",
    "                    quickSortPar(arr, low, pi, threads)\n",
    "        else:\n",
    "            quickSortPar(arr, low, pi, threads)\n",
    "            quickSortPar(arr, pi + 1, high, threads)\n",
    "        '''\n",
    "        if (d < max_d):\n",
    "            #with openmp(\"parallel\"):\n",
    "            with openmp(\"task shared(arr, low, pi)\"):\n",
    "                quickSortPar(arr, low, pi, max_d, d + 1)\n",
    "                #quickSortSeq(arr, low, pi)\n",
    "            with openmp(\"task shared(arr, pi, high)\"):    \n",
    "                quickSortPar(arr, pi + 1, high, max_d, d + 1)  \n",
    "                #quickSortSeq(arr, pi + 1, high)\n",
    "        else:\n",
    "            quickSortPar(arr, low, pi, max_d, d + 1)\n",
    "            quickSortPar(arr, pi + 1, high, max_d, d + 1)\n",
    "        '''\n",
    "        #quickSortPar(arr, low, pi)\n",
    "        #quickSortPar(arr, pi + 1, high)"
   ]
  }
 ],
 "metadata": {
  "kernelspec": {
   "display_name": "Python 3 (ipykernel)",
   "language": "python",
   "name": "python3"
  },
  "language_info": {
   "codemirror_mode": {
    "name": "ipython",
    "version": 3
   },
   "file_extension": ".py",
   "mimetype": "text/x-python",
   "name": "python",
   "nbconvert_exporter": "python",
   "pygments_lexer": "ipython3",
   "version": "3.9.18"
  }
 },
 "nbformat": 4,
 "nbformat_minor": 5
}

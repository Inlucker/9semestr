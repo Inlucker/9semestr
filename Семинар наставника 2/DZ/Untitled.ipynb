{
 "cells": [
  {
   "cell_type": "code",
   "execution_count": 213,
   "id": "3c10e63d-6e8c-4db2-a3f8-2ac0945db82d",
   "metadata": {},
   "outputs": [],
   "source": [
    "from numba import njit\n",
    "from numba.openmp import openmp_context as openmp\n",
    "from numba.openmp import omp_get_thread_num, omp_get_num_threads, omp_set_num_threads, omp_get_max_threads, omp_get_wtime\n",
    "import numpy as np\n",
    "from numba import njit\n",
    "from numba.openmp import openmp_context as openmp\n",
    "import random"
   ]
  },
  {
   "cell_type": "code",
   "execution_count": 214,
   "id": "d88327ff-0087-48ea-8f9c-965d007b6f5f",
   "metadata": {},
   "outputs": [],
   "source": [
    "@njit\n",
    "def hello():\n",
    "    with openmp('parallel'):\n",
    "        thread_id = omp_get_thread_num()\n",
    "        num_threads = omp_get_num_threads()\n",
    "        print('hello world t', thread_id, ' of ', num_threads)\n",
    "        \n",
    "@njit        \n",
    "def printNumThreads():\n",
    "    with openmp('parallel'):\n",
    "        if (omp_get_thread_num() == 0):\n",
    "            print(\"omp_get_max_threads() =\", omp_get_max_threads())\n",
    "            print(\"omp_get_num_threads() =\", omp_get_num_threads())\n",
    "            \n",
    "@njit\n",
    "def test_pi_loop():\n",
    "    num_steps = 100000\n",
    "    step = 1.0 / num_steps\n",
    "\n",
    "    the_sum = 0.0\n",
    "    #omp_set_num_threads(4)\n",
    "\n",
    "    with openmp(\"parallel\"):\n",
    "        with openmp(\"for reduction(+:the_sum) schedule(static)\"):\n",
    "            for j in range(num_steps):\n",
    "                c = step\n",
    "                x = ((j-1) - 0.5) * step\n",
    "                the_sum += 4.0 / (1.0 + x * x)\n",
    "\n",
    "    pi = step * the_sum\n",
    "    return pi\n",
    "\n",
    "@njit\n",
    "def setNumThreads(n):\n",
    "    omp_set_num_threads(n)\n",
    "\n",
    "@njit\n",
    "def isArraySorted(arr):\n",
    "    n = len(arr)\n",
    "    if (n > 0):\n",
    "        prev = arr[0]\n",
    "        for i in range(n):\n",
    "            if (arr[i] < prev):\n",
    "                return False\n",
    "    return True;\n",
    "    \n",
    "def getArr(n):\n",
    "    arr = [0] * n\n",
    "    for i in range(n):\n",
    "        arr[i] = random.randint(1, 100)\n",
    "    return arr\n",
    "    \n",
    "def createRandomArr(n):\n",
    "    return np.random.randint(0, 100, N)\n",
    "\n",
    "@njit\n",
    "def getOmpTime():\n",
    "    return omp_get_wtime()"
   ]
  },
  {
   "cell_type": "code",
   "execution_count": 215,
   "id": "266dedd5-9521-468e-bc66-6126e378c9fd",
   "metadata": {},
   "outputs": [],
   "source": [
    "setNumThreads(4)"
   ]
  },
  {
   "cell_type": "code",
   "execution_count": 216,
   "id": "7a4ddfb9-68d9-48e5-9a47-30e476a754b6",
   "metadata": {},
   "outputs": [],
   "source": [
    "setNumThreads(8)"
   ]
  },
  {
   "cell_type": "code",
   "execution_count": 217,
   "id": "42c95a12-e00d-4ce5-8583-68839412407b",
   "metadata": {},
   "outputs": [],
   "source": [
    "setNumThreads(2)"
   ]
  },
  {
   "cell_type": "code",
   "execution_count": 218,
   "id": "dc1cd5de-f2ba-430c-afce-e5565f49236a",
   "metadata": {},
   "outputs": [
    {
     "name": "stdout",
     "output_type": "stream",
     "text": [
      "omp_get_max_threads() = 2\n",
      "omp_get_num_threads() = 2\n",
      "hello world t 0  of  2\n",
      "hello world t 1  of  2\n"
     ]
    }
   ],
   "source": [
    "printNumThreads()\n",
    "hello()"
   ]
  },
  {
   "cell_type": "code",
   "execution_count": 219,
   "id": "11615ae6-f0dc-446c-9233-733553d02974",
   "metadata": {},
   "outputs": [
    {
     "name": "stdout",
     "output_type": "stream",
     "text": [
      "CPU times: user 237 ms, sys: 10.1 ms, total: 247 ms\n",
      "Wall time: 3.04 s\n"
     ]
    }
   ],
   "source": [
    "%%time\n",
    "for i in range(1000):\n",
    "    test_pi_loop()"
   ]
  },
  {
   "cell_type": "code",
   "execution_count": 220,
   "id": "b2b1e481-8197-4c8c-9398-b5411607a978",
   "metadata": {},
   "outputs": [
    {
     "name": "stdout",
     "output_type": "stream",
     "text": [
      "CPU times: user 129 ms, sys: 7.5 ms, total: 136 ms\n",
      "Wall time: 70.5 ms\n"
     ]
    }
   ],
   "source": [
    "%%time\n",
    "for i in range(1000):\n",
    "    test_pi_loop()"
   ]
  },
  {
   "cell_type": "code",
   "execution_count": 221,
   "id": "feae872f-14a5-4464-873f-9c9d73932712",
   "metadata": {},
   "outputs": [],
   "source": [
    "@njit\n",
    "def quickSortSeq(arr, low, high):\n",
    "    if (low < high):\n",
    "        # partitionHoar\n",
    "        i = low\n",
    "        j = high\n",
    "        pivot = arr[(i + j) // 2]\n",
    "        while (1):\n",
    "            while (arr[i] < pivot):\n",
    "                i = i + 1\n",
    "            while (arr[j] > pivot):\n",
    "                j = j - 1\n",
    "        \n",
    "            if (i >= j):\n",
    "                break\n",
    "        \n",
    "            arr[i], arr[j] = arr[j], arr[i]\n",
    "            i = i + 1\n",
    "            j = j - 1\n",
    "        pi = j\n",
    "\n",
    "        # recurcive call\n",
    "        quickSortSeq(arr, low, pi)\n",
    "        quickSortSeq(arr, pi + 1, high)\n",
    "\n",
    "@njit\n",
    "def quickSortPar(arr, low, high, max_d, d = 0):\n",
    "    if (low < high):\n",
    "        # partitionHoar\n",
    "        i = low\n",
    "        j = high\n",
    "        pivot = arr[(i + j) // 2]\n",
    "        while (1):\n",
    "            while (arr[i] < pivot):\n",
    "                i = i + 1\n",
    "            while (arr[j] > pivot):\n",
    "                j = j - 1\n",
    "        \n",
    "            if (i >= j):\n",
    "                break\n",
    "        \n",
    "            arr[i], arr[j] = arr[j], arr[i]\n",
    "            i = i + 1\n",
    "            j = j - 1\n",
    "        pi = j\n",
    "\n",
    "        # recurcive call\n",
    "        if (d < max_d):\n",
    "            #with openmp(\"parallel sections\"):\n",
    "            with openmp(\"task shared(arr, low, pi)\"):\n",
    "                quickSortPar(arr, low, pi, max_d, d + 1)\n",
    "                #quickSortSeq(arr, low, pi)\n",
    "            with openmp(\"task shared(arr, pi, high)\"):    \n",
    "                quickSortPar(arr, pi + 1, high, max_d, d + 1)  \n",
    "                #quickSortSeq(arr, pi + 1, high)\n",
    "        else:\n",
    "            quickSortPar(arr, low, pi, max_d, d + 1)\n",
    "            quickSortPar(arr, pi + 1, high, max_d, d + 1)\n",
    "        #quickSortPar(arr, low, pi)\n",
    "        #quickSortPar(arr, pi + 1, high)"
   ]
  },
  {
   "cell_type": "code",
   "execution_count": 222,
   "id": "fd556718-56ba-4131-ad65-cd3134231b97",
   "metadata": {},
   "outputs": [],
   "source": [
    "N = 10\n",
    "ITERS = 1"
   ]
  },
  {
   "cell_type": "code",
   "execution_count": 223,
   "id": "0bb2bfef-0eb3-493f-9d1f-8d3223c12d5c",
   "metadata": {},
   "outputs": [
    {
     "name": "stdout",
     "output_type": "stream",
     "text": [
      "[61 68 45 79 91 90 62 91 88 21]\n"
     ]
    }
   ],
   "source": [
    "arr = createRandomArr(N)\n",
    "print(arr)"
   ]
  },
  {
   "cell_type": "code",
   "execution_count": 224,
   "id": "6668c6d9-636b-4a2d-81b7-70714a869b17",
   "metadata": {},
   "outputs": [
    {
     "name": "stdout",
     "output_type": "stream",
     "text": [
      "[21 45 61 62 68 79 88 90 91 91]\n"
     ]
    }
   ],
   "source": [
    "with openmp(\"parallel\"):\n",
    "    with openmp(\"single\"):\n",
    "        quickSortPar(arr, 0, len(arr)-1, 1)\n",
    "print(arr)"
   ]
  },
  {
   "cell_type": "code",
   "execution_count": 225,
   "id": "2243814a-a671-4caf-80e5-8967dd877cf5",
   "metadata": {},
   "outputs": [
    {
     "name": "stdout",
     "output_type": "stream",
     "text": [
      "[92 44 81 22 99 98 63  6 48 40]\n",
      "[ 6 22 40 44 48 63 81 92 98 99]\n"
     ]
    }
   ],
   "source": [
    "arr = createRandomArr(N)\n",
    "print(arr)\n",
    "with openmp(\"parallel\"):\n",
    "    with openmp(\"single\"):\n",
    "        quickSortPar(arr, 0, len(arr)-1, 1)\n",
    "print(arr)"
   ]
  },
  {
   "cell_type": "code",
   "execution_count": 226,
   "id": "fd3769cf-6c18-49a3-aa97-6c6b6e1107e4",
   "metadata": {},
   "outputs": [
    {
     "name": "stdout",
     "output_type": "stream",
     "text": [
      "[15 48 59 15 12 26 33 43 92 27]\n",
      "[12 15 15 26 27 33 43 48 59 92]\n"
     ]
    }
   ],
   "source": [
    "def printQuickSortPar():\n",
    "    start_time = getOmpTime()\n",
    "    arr = createRandomArr(N)\n",
    "    print(arr)\n",
    "    with openmp(\"parallel\"):\n",
    "        with openmp(\"single\"):\n",
    "            quickSortPar(arr, 0, len(arr)-1, 1)\n",
    "    print(arr)\n",
    "\n",
    "printQuickSortPar()"
   ]
  },
  {
   "cell_type": "code",
   "execution_count": 227,
   "id": "57e2c93e-6e6a-42cf-8946-0c4ca80cf577",
   "metadata": {},
   "outputs": [
    {
     "name": "stdout",
     "output_type": "stream",
     "text": [
      "[77 41 18 84 75 28 83 88  0 41]\n"
     ]
    }
   ],
   "source": [
    "arr = createRandomArr(N)\n",
    "print(arr)"
   ]
  },
  {
   "cell_type": "code",
   "execution_count": 228,
   "id": "2a2b1814-fce7-4b4f-aa16-1c14f56a56d7",
   "metadata": {},
   "outputs": [
    {
     "name": "stdout",
     "output_type": "stream",
     "text": [
      "[ 0 18 28 41 41 75 77 83 84 88]\n"
     ]
    }
   ],
   "source": [
    "quickSortSeq(arr, 0, len(arr)-1)\n",
    "print(arr)"
   ]
  },
  {
   "cell_type": "code",
   "execution_count": 229,
   "id": "fa41fb09-186b-4431-805c-ed33581f741a",
   "metadata": {},
   "outputs": [],
   "source": [
    "N = 10000\n",
    "ITERS = 100"
   ]
  },
  {
   "cell_type": "code",
   "execution_count": 230,
   "id": "db0b1400-4312-423a-bcd7-96305dc149ea",
   "metadata": {},
   "outputs": [],
   "source": [
    "def calcSeqTime():\n",
    "    arr = createRandomArr(10)\n",
    "    quickSortSeq(arr, 0, len(arr)-1)\n",
    "    full_time = 0\n",
    "    for it in range(ITERS):\n",
    "        #arr = getArr(N)\n",
    "        arr = createRandomArr(N)\n",
    "        #print(arr)\n",
    "        \n",
    "        start_time = getOmpTime()\n",
    "    \n",
    "        quickSortSeq(arr, 0, len(arr)-1)\n",
    "        \n",
    "        end_time = getOmpTime()\n",
    "        elapsed_time = end_time - start_time;\n",
    "        #print(elapsed_time)\n",
    "        full_time += elapsed_time\n",
    "        \n",
    "        #print(arr)\n",
    "        if (not isArraySorted(arr)):\n",
    "            print(\"Massive is not sorted\\n\")\n",
    "        \n",
    "    full_time /= ITERS\n",
    "    print(\"Time taken (sequential):\", full_time, \"seconds\")"
   ]
  },
  {
   "cell_type": "code",
   "execution_count": 231,
   "id": "0ef848ba-5e2e-46b7-90d8-c4e78e3dcb86",
   "metadata": {},
   "outputs": [
    {
     "name": "stdout",
     "output_type": "stream",
     "text": [
      "Time taken (sequential): 0.00039597272872924803 seconds\n",
      "Time taken (sequential): 0.0003652071952819824 seconds\n",
      "Time taken (sequential): 0.0004100584983825684 seconds\n",
      "Time taken (sequential): 0.00041363716125488283 seconds\n",
      "Time taken (sequential): 0.0003786182403564453 seconds\n",
      "Time taken (sequential): 0.0003703737258911133 seconds\n",
      "Time taken (sequential): 0.000368037223815918 seconds\n",
      "Time taken (sequential): 0.0003619265556335449 seconds\n",
      "Time taken (sequential): 0.0003656768798828125 seconds\n",
      "Time taken (sequential): 0.000382390022277832 seconds\n"
     ]
    }
   ],
   "source": [
    "for i in range(10):\n",
    "    calcSeqTime()"
   ]
  },
  {
   "cell_type": "code",
   "execution_count": 235,
   "id": "868ccfd9-c0fe-4fc8-bec7-bcc23bfcaa35",
   "metadata": {},
   "outputs": [],
   "source": [
    "def calcParTime():\n",
    "    arr = createRandomArr(10)\n",
    "    with openmp(\"parallel\"):\n",
    "            with openmp(\"single\"):\n",
    "                quickSortPar(arr, 0, len(arr)-1, 3)\n",
    "    full_time = 0\n",
    "    for it in range(ITERS):\n",
    "        #arr = getArr(N)\n",
    "        arr = createRandomArr(N)\n",
    "        #print(arr)\n",
    "        \n",
    "        start_time = getOmpTime()\n",
    "        \n",
    "        with openmp(\"parallel\"):\n",
    "            with openmp(\"single\"):\n",
    "                quickSortPar(arr, 0, len(arr)-1, 3)\n",
    "        #quickSortPar(arr, 0, len(arr)-1)\n",
    "        \n",
    "        end_time = getOmpTime()\n",
    "        elapsed_time = end_time - start_time;\n",
    "        #print(elapsed_time)\n",
    "        full_time += elapsed_time\n",
    "        \n",
    "        #print(arr)\n",
    "        \n",
    "        if (not isArraySorted(arr)):\n",
    "            print(\"Massive is not sorted\\n\")\n",
    "        \n",
    "    full_time /= ITERS\n",
    "    print(f\"Time taken ({2} threads):\", full_time, \"seconds\")\n",
    "    return full_time"
   ]
  },
  {
   "cell_type": "code",
   "execution_count": 236,
   "id": "79e7f5e0-a6c4-4e25-8676-60f56d9190f3",
   "metadata": {},
   "outputs": [
    {
     "name": "stdout",
     "output_type": "stream",
     "text": [
      "Time taken (2 threads): 0.0006250143051147461 seconds\n",
      "Time taken (2 threads): 0.00044263362884521484 seconds\n",
      "Time taken (2 threads): 0.00044116973876953127 seconds\n",
      "Time taken (2 threads): 0.0004506635665893555 seconds\n",
      "Time taken (2 threads): 0.0004828906059265137 seconds\n",
      "Time taken (2 threads): 0.0004530882835388184 seconds\n",
      "Time taken (2 threads): 0.000433499813079834 seconds\n",
      "Time taken (2 threads): 0.0004293656349182129 seconds\n",
      "Time taken (2 threads): 0.00043916940689086914 seconds\n",
      "Time taken (2 threads): 0.0004310011863708496 seconds\n"
     ]
    }
   ],
   "source": [
    "for i in range(10):\n",
    "    calcParTime()"
   ]
  },
  {
   "cell_type": "code",
   "execution_count": null,
   "id": "c3c8ce60-271e-4cef-b7bc-eb18548b4023",
   "metadata": {},
   "outputs": [],
   "source": [
    "printNumThreads()\n",
    "t = calcParTime()\n",
    "while (t > 0.00036):\n",
    "    t = calcParTime()"
   ]
  },
  {
   "cell_type": "markdown",
   "id": "22c785c7-100e-41c5-be35-96a5fc122d1d",
   "metadata": {
    "jp-MarkdownHeadingCollapsed": true
   },
   "source": [
    "# TESTING"
   ]
  },
  {
   "cell_type": "code",
   "execution_count": null,
   "id": "282c34d8-0408-4267-beed-422975b6d933",
   "metadata": {},
   "outputs": [],
   "source": [
    "@njit\n",
    "def my_print(val):\n",
    "    print(val)\n",
    "    \n",
    "@njit\n",
    "def getArr(n):\n",
    "    arr = [0] * n\n",
    "    for i in range(n):\n",
    "        arr[i] = random.randint(1, 100)\n",
    "    return arr\n",
    "\n",
    "@njit\n",
    "def my_test():\n",
    "    arr = getArr(N)\n",
    "    my_print(arr)\n",
    "    with openmp(\"parallel shared(arr)\"):\n",
    "        with openmp(\"single shared(arr)\"):\n",
    "            quickSortPar(arr, 0, len(arr)-1)\n",
    "    my_print(arr)\n",
    "            \n",
    "my_test()"
   ]
  },
  {
   "cell_type": "markdown",
   "id": "3c9fddbd-a2eb-455c-9088-e93486dc12ed",
   "metadata": {
    "jp-MarkdownHeadingCollapsed": true
   },
   "source": [
    "# OLD"
   ]
  },
  {
   "cell_type": "code",
   "execution_count": 27,
   "id": "b1dee663-06b9-4666-bebf-70462b6dee3f",
   "metadata": {},
   "outputs": [
    {
     "name": "stdout",
     "output_type": "stream",
     "text": [
      "Среднее время выполнения: 0.010098171999998158 секунд\n",
      "Среднее время выполнения: 0.009548747999997432 секунд\n",
      "Среднее время выполнения: 0.00960765399999218 секунд\n"
     ]
    }
   ],
   "source": [
    "import timeit\n",
    "import random\n",
    "\n",
    "def quicksort(arr):\n",
    "    if len(arr) <= 1:\n",
    "        return arr\n",
    "    else:\n",
    "        pivot = arr[len(arr) // 2]\n",
    "        left = [x for x in arr if x < pivot]\n",
    "        middle = [x for x in arr if x == pivot]\n",
    "        right = [x for x in arr if x > pivot]\n",
    "        return quicksort(left) + middle + quicksort(right)\n",
    "\n",
    "# Генерация случайного массива\n",
    "random_array = [random.randint(1, 1000) for _ in range(10000)]\n",
    "\n",
    "# Замер времени выполнения\n",
    "num_iterations = 100\n",
    "for i in range (3):\n",
    "    total_time = timeit.timeit(lambda: quicksort(random_array), number=num_iterations)\n",
    "\n",
    "    # Усреднение времени\n",
    "    average_time = total_time / num_iterations\n",
    "    print(f\"Среднее время выполнения: {average_time} секунд\")\n"
   ]
  },
  {
   "cell_type": "code",
   "execution_count": 104,
   "id": "72b0ede3-4f4d-4b88-93aa-a4f856aa6c8b",
   "metadata": {},
   "outputs": [
    {
     "name": "stdout",
     "output_type": "stream",
     "text": [
      "[53, 122, 295, 976, 317, 35, 854, 760, 106, 721]\n",
      "[35, 53, 106, 122, 295, 317, 721, 760, 854, 976]\n"
     ]
    }
   ],
   "source": [
    "random_array = [random.randint(1, 1000) for _ in range(10)]\n",
    "print(random_array)\n",
    "sorted_array = quicksort(random_array)\n",
    "print(sorted_array)"
   ]
  },
  {
   "cell_type": "code",
   "execution_count": 29,
   "id": "dbbcc531-9b46-42a1-8af8-b1d0c0cb2ae7",
   "metadata": {},
   "outputs": [
    {
     "name": "stdout",
     "output_type": "stream",
     "text": [
      "Time taken (sequential): 0.005700380802154541 seconds\n"
     ]
    }
   ],
   "source": [
    "def calcSeqTime2():\n",
    "    full_time = 0\n",
    "    for it in range(ITERS):\n",
    "        arr = [0] * N\n",
    "        for i in range(N):\n",
    "            arr[i] = random.randint(1, 100)\n",
    "        #print(arr)\n",
    "        \n",
    "        start_time = getOmpTime()\n",
    "    \n",
    "        arr = quicksort(arr)\n",
    "        \n",
    "        end_time = getOmpTime()\n",
    "        elapsed_time = end_time - start_time;\n",
    "        #print(elapsed_time)\n",
    "        full_time += elapsed_time\n",
    "        \n",
    "        #print(arr)\n",
    "        if (not isArraySorted(arr)):\n",
    "            print(\"Massive is not sorted\\n\")\n",
    "        \n",
    "    full_time /= ITERS\n",
    "    print(\"Time taken (sequential):\", full_time, \"seconds\")\n",
    "\n",
    "calcSeqTime2()"
   ]
  },
  {
   "cell_type": "code",
   "execution_count": null,
   "id": "be66d475-df64-4ec0-b724-a9731cbe72c0",
   "metadata": {},
   "outputs": [],
   "source": []
  }
 ],
 "metadata": {
  "kernelspec": {
   "display_name": "Python 3 (ipykernel)",
   "language": "python",
   "name": "python3"
  },
  "language_info": {
   "codemirror_mode": {
    "name": "ipython",
    "version": 3
   },
   "file_extension": ".py",
   "mimetype": "text/x-python",
   "name": "python",
   "nbconvert_exporter": "python",
   "pygments_lexer": "ipython3",
   "version": "3.9.18"
  }
 },
 "nbformat": 4,
 "nbformat_minor": 5
}

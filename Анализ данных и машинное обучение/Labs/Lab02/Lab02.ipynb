{
 "cells": [
  {
   "cell_type": "code",
   "execution_count": 1,
   "metadata": {
    "_cell_guid": "b1076dfc-b9ad-4769-8c92-a6c4dae69d19",
    "_uuid": "8f2839f25d086af736a60e9eeb907d3b93b6e0e5"
   },
   "outputs": [],
   "source": [
    "# This Python 3 environment comes with many helpful analytics libraries installed\n",
    "# It is defined by the kaggle/python Docker image: https://github.com/kaggle/docker-python\n",
    "# For example, here's several helpful packages to load\n",
    "\n",
    "import numpy as np # linear algebra\n",
    "import pandas as pd # data processing, CSV file I/O (e.g. pd.read_csv)\n",
    "\n",
    "# Input data files are available in the read-only \"../input/\" directory\n",
    "# For example, running this (by clicking run or pressing Shift+Enter) will list all files under the input directory\n",
    "\n",
    "import os\n",
    "for dirname, _, filenames in os.walk('/kaggle/input'):\n",
    "    for filename in filenames:\n",
    "        print(os.path.join(dirname, filename))\n",
    "\n",
    "# You can write up to 20GB to the current directory (/kaggle/working/) that gets preserved as output when you create a version using \"Save & Run All\" \n",
    "# You can also write temporary files to /kaggle/temp/, but they won't be saved outside of the current session"
   ]
  },
  {
   "cell_type": "code",
   "execution_count": 2,
   "metadata": {},
   "outputs": [],
   "source": [
    "from itertools import combinations\n",
    "import seaborn as sns\n",
    "import matplotlib.pyplot as plt\n",
    "from sklearn.metrics import mean_absolute_error\n",
    "\n",
    "from catboost import CatBoostRegressor\n",
    "from catboost import EShapCalcType, EFeaturesSelectionAlgorithm\n",
    "from catboost import Pool\n",
    "import shap"
   ]
  },
  {
   "cell_type": "code",
   "execution_count": 3,
   "metadata": {},
   "outputs": [],
   "source": [
    "train = pd.read_csv('./train.csv')"
   ]
  },
  {
   "cell_type": "code",
   "execution_count": 4,
   "metadata": {},
   "outputs": [
    {
     "data": {
      "text/html": [
       "<div>\n",
       "<style scoped>\n",
       "    .dataframe tbody tr th:only-of-type {\n",
       "        vertical-align: middle;\n",
       "    }\n",
       "\n",
       "    .dataframe tbody tr th {\n",
       "        vertical-align: top;\n",
       "    }\n",
       "\n",
       "    .dataframe thead th {\n",
       "        text-align: right;\n",
       "    }\n",
       "</style>\n",
       "<table border=\"1\" class=\"dataframe\">\n",
       "  <thead>\n",
       "    <tr style=\"text-align: right;\">\n",
       "      <th></th>\n",
       "      <th>stock_id</th>\n",
       "      <th>date_id</th>\n",
       "      <th>seconds_in_bucket</th>\n",
       "      <th>imbalance_size</th>\n",
       "      <th>imbalance_buy_sell_flag</th>\n",
       "      <th>reference_price</th>\n",
       "      <th>matched_size</th>\n",
       "      <th>far_price</th>\n",
       "      <th>near_price</th>\n",
       "      <th>bid_price</th>\n",
       "      <th>bid_size</th>\n",
       "      <th>ask_price</th>\n",
       "      <th>ask_size</th>\n",
       "      <th>wap</th>\n",
       "      <th>target</th>\n",
       "      <th>time_id</th>\n",
       "      <th>row_id</th>\n",
       "    </tr>\n",
       "  </thead>\n",
       "  <tbody>\n",
       "    <tr>\n",
       "      <th>0</th>\n",
       "      <td>0</td>\n",
       "      <td>0</td>\n",
       "      <td>0</td>\n",
       "      <td>3180602.69</td>\n",
       "      <td>1</td>\n",
       "      <td>0.999812</td>\n",
       "      <td>13380276.64</td>\n",
       "      <td>NaN</td>\n",
       "      <td>NaN</td>\n",
       "      <td>0.999812</td>\n",
       "      <td>60651.50</td>\n",
       "      <td>1.000026</td>\n",
       "      <td>8493.03</td>\n",
       "      <td>1.000000</td>\n",
       "      <td>-3.029704</td>\n",
       "      <td>0</td>\n",
       "      <td>0_0_0</td>\n",
       "    </tr>\n",
       "    <tr>\n",
       "      <th>1</th>\n",
       "      <td>1</td>\n",
       "      <td>0</td>\n",
       "      <td>0</td>\n",
       "      <td>166603.91</td>\n",
       "      <td>-1</td>\n",
       "      <td>0.999896</td>\n",
       "      <td>1642214.25</td>\n",
       "      <td>NaN</td>\n",
       "      <td>NaN</td>\n",
       "      <td>0.999896</td>\n",
       "      <td>3233.04</td>\n",
       "      <td>1.000660</td>\n",
       "      <td>20605.09</td>\n",
       "      <td>1.000000</td>\n",
       "      <td>-5.519986</td>\n",
       "      <td>0</td>\n",
       "      <td>0_0_1</td>\n",
       "    </tr>\n",
       "    <tr>\n",
       "      <th>2</th>\n",
       "      <td>2</td>\n",
       "      <td>0</td>\n",
       "      <td>0</td>\n",
       "      <td>302879.87</td>\n",
       "      <td>-1</td>\n",
       "      <td>0.999561</td>\n",
       "      <td>1819368.03</td>\n",
       "      <td>NaN</td>\n",
       "      <td>NaN</td>\n",
       "      <td>0.999403</td>\n",
       "      <td>37956.00</td>\n",
       "      <td>1.000298</td>\n",
       "      <td>18995.00</td>\n",
       "      <td>1.000000</td>\n",
       "      <td>-8.389950</td>\n",
       "      <td>0</td>\n",
       "      <td>0_0_2</td>\n",
       "    </tr>\n",
       "    <tr>\n",
       "      <th>3</th>\n",
       "      <td>3</td>\n",
       "      <td>0</td>\n",
       "      <td>0</td>\n",
       "      <td>11917682.27</td>\n",
       "      <td>-1</td>\n",
       "      <td>1.000171</td>\n",
       "      <td>18389745.62</td>\n",
       "      <td>NaN</td>\n",
       "      <td>NaN</td>\n",
       "      <td>0.999999</td>\n",
       "      <td>2324.90</td>\n",
       "      <td>1.000214</td>\n",
       "      <td>479032.40</td>\n",
       "      <td>1.000000</td>\n",
       "      <td>-4.010200</td>\n",
       "      <td>0</td>\n",
       "      <td>0_0_3</td>\n",
       "    </tr>\n",
       "    <tr>\n",
       "      <th>4</th>\n",
       "      <td>4</td>\n",
       "      <td>0</td>\n",
       "      <td>0</td>\n",
       "      <td>447549.96</td>\n",
       "      <td>-1</td>\n",
       "      <td>0.999532</td>\n",
       "      <td>17860614.95</td>\n",
       "      <td>NaN</td>\n",
       "      <td>NaN</td>\n",
       "      <td>0.999394</td>\n",
       "      <td>16485.54</td>\n",
       "      <td>1.000016</td>\n",
       "      <td>434.10</td>\n",
       "      <td>1.000000</td>\n",
       "      <td>-7.349849</td>\n",
       "      <td>0</td>\n",
       "      <td>0_0_4</td>\n",
       "    </tr>\n",
       "    <tr>\n",
       "      <th>...</th>\n",
       "      <td>...</td>\n",
       "      <td>...</td>\n",
       "      <td>...</td>\n",
       "      <td>...</td>\n",
       "      <td>...</td>\n",
       "      <td>...</td>\n",
       "      <td>...</td>\n",
       "      <td>...</td>\n",
       "      <td>...</td>\n",
       "      <td>...</td>\n",
       "      <td>...</td>\n",
       "      <td>...</td>\n",
       "      <td>...</td>\n",
       "      <td>...</td>\n",
       "      <td>...</td>\n",
       "      <td>...</td>\n",
       "      <td>...</td>\n",
       "    </tr>\n",
       "    <tr>\n",
       "      <th>5237975</th>\n",
       "      <td>195</td>\n",
       "      <td>480</td>\n",
       "      <td>540</td>\n",
       "      <td>2440722.89</td>\n",
       "      <td>-1</td>\n",
       "      <td>1.000317</td>\n",
       "      <td>28280361.74</td>\n",
       "      <td>0.999734</td>\n",
       "      <td>0.999734</td>\n",
       "      <td>1.000317</td>\n",
       "      <td>32257.04</td>\n",
       "      <td>1.000434</td>\n",
       "      <td>319862.40</td>\n",
       "      <td>1.000328</td>\n",
       "      <td>2.310276</td>\n",
       "      <td>26454</td>\n",
       "      <td>480_540_195</td>\n",
       "    </tr>\n",
       "    <tr>\n",
       "      <th>5237976</th>\n",
       "      <td>196</td>\n",
       "      <td>480</td>\n",
       "      <td>540</td>\n",
       "      <td>349510.47</td>\n",
       "      <td>-1</td>\n",
       "      <td>1.000643</td>\n",
       "      <td>9187699.11</td>\n",
       "      <td>1.000129</td>\n",
       "      <td>1.000386</td>\n",
       "      <td>1.000643</td>\n",
       "      <td>205108.40</td>\n",
       "      <td>1.000900</td>\n",
       "      <td>93393.07</td>\n",
       "      <td>1.000819</td>\n",
       "      <td>-8.220077</td>\n",
       "      <td>26454</td>\n",
       "      <td>480_540_196</td>\n",
       "    </tr>\n",
       "    <tr>\n",
       "      <th>5237977</th>\n",
       "      <td>197</td>\n",
       "      <td>480</td>\n",
       "      <td>540</td>\n",
       "      <td>0.00</td>\n",
       "      <td>0</td>\n",
       "      <td>0.995789</td>\n",
       "      <td>12725436.10</td>\n",
       "      <td>0.995789</td>\n",
       "      <td>0.995789</td>\n",
       "      <td>0.995789</td>\n",
       "      <td>16790.66</td>\n",
       "      <td>0.995883</td>\n",
       "      <td>180038.32</td>\n",
       "      <td>0.995797</td>\n",
       "      <td>1.169443</td>\n",
       "      <td>26454</td>\n",
       "      <td>480_540_197</td>\n",
       "    </tr>\n",
       "    <tr>\n",
       "      <th>5237978</th>\n",
       "      <td>198</td>\n",
       "      <td>480</td>\n",
       "      <td>540</td>\n",
       "      <td>1000898.84</td>\n",
       "      <td>1</td>\n",
       "      <td>0.999210</td>\n",
       "      <td>94773271.05</td>\n",
       "      <td>0.999210</td>\n",
       "      <td>0.999210</td>\n",
       "      <td>0.998970</td>\n",
       "      <td>125631.72</td>\n",
       "      <td>0.999210</td>\n",
       "      <td>669893.00</td>\n",
       "      <td>0.999008</td>\n",
       "      <td>-1.540184</td>\n",
       "      <td>26454</td>\n",
       "      <td>480_540_198</td>\n",
       "    </tr>\n",
       "    <tr>\n",
       "      <th>5237979</th>\n",
       "      <td>199</td>\n",
       "      <td>480</td>\n",
       "      <td>540</td>\n",
       "      <td>1884285.71</td>\n",
       "      <td>-1</td>\n",
       "      <td>1.002129</td>\n",
       "      <td>24073677.32</td>\n",
       "      <td>1.000859</td>\n",
       "      <td>1.001494</td>\n",
       "      <td>1.002129</td>\n",
       "      <td>250081.44</td>\n",
       "      <td>1.002447</td>\n",
       "      <td>300167.56</td>\n",
       "      <td>1.002274</td>\n",
       "      <td>-6.530285</td>\n",
       "      <td>26454</td>\n",
       "      <td>480_540_199</td>\n",
       "    </tr>\n",
       "  </tbody>\n",
       "</table>\n",
       "<p>5237980 rows × 17 columns</p>\n",
       "</div>"
      ],
      "text/plain": [
       "         stock_id  date_id  seconds_in_bucket  imbalance_size  \\\n",
       "0               0        0                  0      3180602.69   \n",
       "1               1        0                  0       166603.91   \n",
       "2               2        0                  0       302879.87   \n",
       "3               3        0                  0     11917682.27   \n",
       "4               4        0                  0       447549.96   \n",
       "...           ...      ...                ...             ...   \n",
       "5237975       195      480                540      2440722.89   \n",
       "5237976       196      480                540       349510.47   \n",
       "5237977       197      480                540            0.00   \n",
       "5237978       198      480                540      1000898.84   \n",
       "5237979       199      480                540      1884285.71   \n",
       "\n",
       "         imbalance_buy_sell_flag  reference_price  matched_size  far_price  \\\n",
       "0                              1         0.999812   13380276.64        NaN   \n",
       "1                             -1         0.999896    1642214.25        NaN   \n",
       "2                             -1         0.999561    1819368.03        NaN   \n",
       "3                             -1         1.000171   18389745.62        NaN   \n",
       "4                             -1         0.999532   17860614.95        NaN   \n",
       "...                          ...              ...           ...        ...   \n",
       "5237975                       -1         1.000317   28280361.74   0.999734   \n",
       "5237976                       -1         1.000643    9187699.11   1.000129   \n",
       "5237977                        0         0.995789   12725436.10   0.995789   \n",
       "5237978                        1         0.999210   94773271.05   0.999210   \n",
       "5237979                       -1         1.002129   24073677.32   1.000859   \n",
       "\n",
       "         near_price  bid_price   bid_size  ask_price   ask_size       wap  \\\n",
       "0               NaN   0.999812   60651.50   1.000026    8493.03  1.000000   \n",
       "1               NaN   0.999896    3233.04   1.000660   20605.09  1.000000   \n",
       "2               NaN   0.999403   37956.00   1.000298   18995.00  1.000000   \n",
       "3               NaN   0.999999    2324.90   1.000214  479032.40  1.000000   \n",
       "4               NaN   0.999394   16485.54   1.000016     434.10  1.000000   \n",
       "...             ...        ...        ...        ...        ...       ...   \n",
       "5237975    0.999734   1.000317   32257.04   1.000434  319862.40  1.000328   \n",
       "5237976    1.000386   1.000643  205108.40   1.000900   93393.07  1.000819   \n",
       "5237977    0.995789   0.995789   16790.66   0.995883  180038.32  0.995797   \n",
       "5237978    0.999210   0.998970  125631.72   0.999210  669893.00  0.999008   \n",
       "5237979    1.001494   1.002129  250081.44   1.002447  300167.56  1.002274   \n",
       "\n",
       "           target  time_id       row_id  \n",
       "0       -3.029704        0        0_0_0  \n",
       "1       -5.519986        0        0_0_1  \n",
       "2       -8.389950        0        0_0_2  \n",
       "3       -4.010200        0        0_0_3  \n",
       "4       -7.349849        0        0_0_4  \n",
       "...           ...      ...          ...  \n",
       "5237975  2.310276    26454  480_540_195  \n",
       "5237976 -8.220077    26454  480_540_196  \n",
       "5237977  1.169443    26454  480_540_197  \n",
       "5237978 -1.540184    26454  480_540_198  \n",
       "5237979 -6.530285    26454  480_540_199  \n",
       "\n",
       "[5237980 rows x 17 columns]"
      ]
     },
     "execution_count": 4,
     "metadata": {},
     "output_type": "execute_result"
    }
   ],
   "source": [
    "train"
   ]
  },
  {
   "cell_type": "code",
   "execution_count": 5,
   "metadata": {},
   "outputs": [
    {
     "name": "stdout",
     "output_type": "stream",
     "text": [
      "<class 'pandas.core.frame.DataFrame'>\n",
      "RangeIndex: 5237980 entries, 0 to 5237979\n",
      "Data columns (total 17 columns):\n",
      " #   Column                   Dtype  \n",
      "---  ------                   -----  \n",
      " 0   stock_id                 int64  \n",
      " 1   date_id                  int64  \n",
      " 2   seconds_in_bucket        int64  \n",
      " 3   imbalance_size           float64\n",
      " 4   imbalance_buy_sell_flag  int64  \n",
      " 5   reference_price          float64\n",
      " 6   matched_size             float64\n",
      " 7   far_price                float64\n",
      " 8   near_price               float64\n",
      " 9   bid_price                float64\n",
      " 10  bid_size                 float64\n",
      " 11  ask_price                float64\n",
      " 12  ask_size                 float64\n",
      " 13  wap                      float64\n",
      " 14  target                   float64\n",
      " 15  time_id                  int64  \n",
      " 16  row_id                   object \n",
      "dtypes: float64(11), int64(5), object(1)\n",
      "memory usage: 679.4+ MB\n"
     ]
    }
   ],
   "source": [
    "train.info()"
   ]
  },
  {
   "cell_type": "code",
   "execution_count": 6,
   "metadata": {},
   "outputs": [
    {
     "data": {
      "text/plain": [
       "stock_id                         0\n",
       "date_id                          0\n",
       "seconds_in_bucket                0\n",
       "imbalance_size                 220\n",
       "imbalance_buy_sell_flag          0\n",
       "reference_price                220\n",
       "matched_size                   220\n",
       "far_price                  2894342\n",
       "near_price                 2857180\n",
       "bid_price                      220\n",
       "bid_size                         0\n",
       "ask_price                      220\n",
       "ask_size                         0\n",
       "wap                            220\n",
       "target                          88\n",
       "time_id                          0\n",
       "row_id                           0\n",
       "dtype: int64"
      ]
     },
     "execution_count": 6,
     "metadata": {},
     "output_type": "execute_result"
    }
   ],
   "source": [
    "train.isna().sum()"
   ]
  },
  {
   "cell_type": "code",
   "execution_count": 7,
   "metadata": {},
   "outputs": [
    {
     "name": "stdout",
     "output_type": "stream",
     "text": [
      "['stock_id', 'date_id', 'seconds_in_bucket', 'imbalance_size', 'imbalance_buy_sell_flag', 'reference_price', 'matched_size', 'far_price', 'near_price', 'bid_price', 'bid_size', 'ask_price', 'ask_size', 'wap']\n"
     ]
    }
   ],
   "source": [
    "features = [col for col in train.columns if col not in ['row_id', 'time_id', 'target']]\n",
    "print(features)"
   ]
  },
  {
   "cell_type": "code",
   "execution_count": 8,
   "metadata": {},
   "outputs": [],
   "source": [
    "train = train.dropna(subset=[\"target\"])\n",
    "train.reset_index(drop=True, inplace=True)"
   ]
  },
  {
   "cell_type": "code",
   "execution_count": 9,
   "metadata": {},
   "outputs": [],
   "source": [
    "X = train[features].copy(deep=True)\n",
    "y = train['target'].copy(deep=True)"
   ]
  },
  {
   "cell_type": "code",
   "execution_count": 10,
   "metadata": {},
   "outputs": [
    {
     "data": {
      "text/plain": [
       "((5138892, 14), (99000, 14), (5138892,), (99000,))"
      ]
     },
     "execution_count": 10,
     "metadata": {},
     "output_type": "execute_result"
    }
   ],
   "source": [
    "number_of_days = len(X.date_id.unique()) # There are 481 trading days, we'll take the last n as testing set\n",
    "testing_days = 10\n",
    "training_days = number_of_days - testing_days\n",
    "training_days, testing_days\n",
    "\n",
    "# mask to grab the days for training and testing\n",
    "training_mask = X.date_id <= training_days\n",
    "testing_mask = X.date_id > training_days\n",
    "\n",
    "# subset and make training and validation sets\n",
    "X_train, X_val, y_train, y_val = X[training_mask], X[testing_mask], y[training_mask], y[testing_mask] #train_test_split(X, y, test_size=0.20, random_state=0, shuffle=True, stratify=X['stock_id']) # random_state=8\n",
    "X_train.shape, X_val.shape, y_train.shape, y_val.shape"
   ]
  },
  {
   "cell_type": "code",
   "execution_count": 11,
   "metadata": {},
   "outputs": [],
   "source": [
    "def feature_engineering(X):\n",
    "\n",
    "    _X = X.copy()\n",
    "\n",
    "    # features taken from https://www.kaggle.com/code/zulqarnainali/explained-singel-model-optiver\n",
    "    _X[\"liquidity_imbalance\"] = _X.eval(\"(bid_size-ask_size)/(bid_size+ask_size)\")\n",
    "    _X[\"matched_imbalance\"] = _X.eval(\"(imbalance_size-matched_size)/(matched_size+imbalance_size)\")\n",
    "    _X[\"price_spread\"] = _X[\"ask_price\"] - _X[\"bid_price\"]\n",
    "    _X['market_urgency'] = _X['price_spread'] * _X['liquidity_imbalance']\n",
    "    \n",
    "    return _X.drop(columns=['date_id'])"
   ]
  },
  {
   "cell_type": "code",
   "execution_count": 12,
   "metadata": {},
   "outputs": [
    {
     "name": "stdout",
     "output_type": "stream",
     "text": [
      "CPU times: user 237 ms, sys: 415 ms, total: 652 ms\n",
      "Wall time: 651 ms\n"
     ]
    },
    {
     "data": {
      "text/plain": [
       "((5138892, 17), (99000, 17))"
      ]
     },
     "execution_count": 12,
     "metadata": {},
     "output_type": "execute_result"
    }
   ],
   "source": [
    "%%time \n",
    "\n",
    "# apply feature engineering\n",
    "X_train = feature_engineering(X_train)\n",
    "X_val = feature_engineering(X_val)\n",
    "\n",
    "X_train.shape, X_val.shape"
   ]
  },
  {
   "cell_type": "code",
   "execution_count": 13,
   "metadata": {},
   "outputs": [],
   "source": [
    "# Convert all numerics to float32 to reduce memory footprint\n",
    "X_train = X_train.astype(np.float32)\n",
    "X_val = X_val.astype(np.float32)"
   ]
  },
  {
   "cell_type": "code",
   "execution_count": 14,
   "metadata": {},
   "outputs": [],
   "source": [
    "train_pool = Pool(data=X_train, label=y_train)# , cat_features=cat_features) # , cat_features=cat_features\n",
    "val_pool = Pool(data=X_val, label=y_val)#, cat_features=cat_features) # , cat_features=cat_features"
   ]
  },
  {
   "cell_type": "code",
   "execution_count": 15,
   "metadata": {},
   "outputs": [],
   "source": [
    "# https://www.kdnuggets.com/2020/10/fast-gradient-boosting-catboost.html\n",
    "    \n",
    "params = dict(loss_function ='MAE',\n",
    "              eval_metric= \"MAE\",\n",
    "              metric_period = 100,\n",
    "              bootstrap_type = \"Bernoulli\",\n",
    "              od_type = 'Iter',\n",
    "              od_wait = 20,\n",
    "              border_count = 32,\n",
    "              #use_best_model = True,\n",
    "              task_type = 'GPU',\n",
    "              random_seed=7,\n",
    "              iterations = 600,\n",
    "              subsample=0.779472827911377,\n",
    "              random_strength=11.285714149475098, # more bagging to reduce overfitting\n",
    "              depth=8,\n",
    "              l2_leaf_reg=33,\n",
    "              learning_rate=0.012735510244965552,\n",
    "              )\n",
    "\n",
    "\n",
    "model = CatBoostRegressor(**params)"
   ]
  },
  {
   "cell_type": "code",
   "execution_count": 16,
   "metadata": {},
   "outputs": [
    {
     "name": "stdout",
     "output_type": "stream",
     "text": [
      "{'loss_function': 'MAE', 'eval_metric': 'MAE', 'metric_period': 100, 'bootstrap_type': 'Bernoulli', 'od_type': 'Iter', 'od_wait': 20, 'border_count': 32, 'task_type': 'GPU', 'random_seed': 7, 'iterations': 600, 'subsample': 0.779472827911377, 'random_strength': 11.285714149475098, 'depth': 8, 'l2_leaf_reg': 33, 'learning_rate': 0.012735510244965552}\n",
      "0:\tlearn: 6.4219882\ttest: 5.6513403\tbest: 5.6513403 (0)\ttotal: 42.4ms\tremaining: 25.4s\n",
      "100:\tlearn: 6.4128061\ttest: 5.6450915\tbest: 5.6450915 (100)\ttotal: 3.99s\tremaining: 19.7s\n",
      "200:\tlearn: 6.4046518\ttest: 5.6396357\tbest: 5.6396357 (200)\ttotal: 7.95s\tremaining: 15.8s\n",
      "300:\tlearn: 6.3972814\ttest: 5.6348074\tbest: 5.6348074 (300)\ttotal: 11.9s\tremaining: 11.8s\n",
      "400:\tlearn: 6.3906679\ttest: 5.6305612\tbest: 5.6305612 (400)\ttotal: 15.9s\tremaining: 7.88s\n",
      "500:\tlearn: 6.3847464\ttest: 5.6268106\tbest: 5.6268106 (500)\ttotal: 19.8s\tremaining: 3.92s\n",
      "599:\tlearn: 6.3794779\ttest: 5.6235726\tbest: 5.6235726 (599)\ttotal: 23.7s\tremaining: 0us\n",
      "bestTest = 5.623572601\n",
      "bestIteration = 599\n",
      "-----Predicting with the reduced set model-----------\n",
      "MAE on validation set: 5.6236\n",
      "CPU times: user 30 s, sys: 7.9 s, total: 37.9 s\n",
      "Wall time: 27.1 s\n"
     ]
    }
   ],
   "source": [
    "%%time\n",
    "\n",
    "# https://medium.com/analytics-vidhya/catboost-101-fb2fdc3398f3\n",
    "\n",
    "# Retrain the model with the recommended number of iterations and the reduced feature set\n",
    "final_params = params.copy()\n",
    "updates = dict(#score_function='Cosine'\n",
    "              )\n",
    "final_params.update(updates)\n",
    "print(final_params)\n",
    "final_model = CatBoostRegressor(**final_params)\n",
    "final_model.fit(X_train, #[summary['selected_features_names']],  # \n",
    "                y_train,\n",
    "                eval_set=(X_val, y_val)) # [summary['selected_features_names']]\n",
    "\n",
    "print(\"-----Predicting with the reduced set model-----------\")\n",
    "y_val_pred = final_model.predict(X_val) # [summary['selected_features_names']]\n",
    "y_val_mae = mean_absolute_error(y_val, y_val_pred)\n",
    "print(f\"MAE on validation set: {np.round(y_val_mae, 4)}\")"
   ]
  },
  {
   "cell_type": "code",
   "execution_count": 17,
   "metadata": {},
   "outputs": [
    {
     "name": "stdout",
     "output_type": "stream",
     "text": [
      "nan_mode, Min\n",
      "gpu_ram_part, 0.95\n",
      "eval_metric, MAE\n",
      "iterations, 600\n",
      "leaf_estimation_method, Gradient\n",
      "observations_to_bootstrap, TestOnly\n",
      "od_pval, 0\n",
      "random_score_type, NormalWithModelSizeDecrease\n",
      "grow_policy, SymmetricTree\n",
      "penalties_coefficient, 1\n",
      "boosting_type, Plain\n",
      "feature_border_type, GreedyLogSum\n",
      "bayesian_matrix_reg, 0.10000000149011612\n",
      "devices, -1\n",
      "eval_fraction, 0\n",
      "pinned_memory_bytes, 104857600\n",
      "force_unit_auto_pair_weights, False\n",
      "l2_leaf_reg, 33\n",
      "random_strength, 11.285714149475098\n",
      "od_type, Iter\n",
      "rsm, 1\n",
      "boost_from_average, True\n",
      "gpu_cat_features_storage, GpuRam\n",
      "fold_size_loss_normalization, False\n",
      "model_size_reg, 0.5\n",
      "pool_metainfo_options, {'tags': {}}\n",
      "subsample, 0.779472827911377\n",
      "use_best_model, True\n",
      "meta_l2_frequency, 0\n",
      "od_wait, 20\n",
      "random_seed, 7\n",
      "depth, 8\n",
      "border_count, 32\n",
      "min_fold_size, 100\n",
      "data_partition, DocParallel\n",
      "classes_count, 0\n",
      "auto_class_weights, None\n",
      "leaf_estimation_backtracking, AnyImprovement\n",
      "best_model_min_trees, 1\n",
      "min_data_in_leaf, 1\n",
      "add_ridge_penalty_to_loss_function, False\n",
      "loss_function, MAE\n",
      "learning_rate, 0.012735510244965552\n",
      "meta_l2_exponent, 1\n",
      "score_function, Cosine\n",
      "task_type, GPU\n",
      "leaf_estimation_iterations, 1\n",
      "bootstrap_type, Bernoulli\n",
      "max_leaves, 256\n"
     ]
    }
   ],
   "source": [
    "for key,value in final_model.get_all_params().items():\n",
    "    print('{}, {}'.format(key,value))"
   ]
  },
  {
   "cell_type": "code",
   "execution_count": 18,
   "metadata": {},
   "outputs": [
    {
     "data": {
      "image/png": "[encoded data removed]",
      "text/plain": [
       "<Figure size 1200x1000 with 1 Axes>"
      ]
     },
     "metadata": {},
     "output_type": "display_data"
    }
   ],
   "source": [
    "feat_importances = final_model.get_feature_importance(prettified=True)\n",
    "\n",
    "plt.figure(figsize=(12, 10))\n",
    "sns.barplot(x=\"Importances\", y=\"Feature Id\", data=feat_importances[0:10])\n",
    "plt.title('Top features:');"
   ]
  },
  {
   "cell_type": "markdown",
   "metadata": {},
   "source": [
    "## Make final predictions"
   ]
  },
  {
   "cell_type": "code",
   "execution_count": 19,
   "metadata": {},
   "outputs": [],
   "source": [
    "import optiver2023\n",
    "env = optiver2023.make_env()\n",
    "iter_test = env.iter_test()"
   ]
  },
  {
   "cell_type": "code",
   "execution_count": 20,
   "metadata": {},
   "outputs": [
    {
     "name": "stdout",
     "output_type": "stream",
     "text": [
      "This version of the API is not optimized and should not be used to estimate the runtime of your code on the hidden test set.\n"
     ]
    }
   ],
   "source": [
    "counter = 0\n",
    "for (test, revealed_targets, sample_prediction) in iter_test:\n",
    "    \n",
    "    # preprocess\n",
    "    X_test = test[features].copy(deep=True)\n",
    "    X_test = feature_engineering(X_test)\n",
    "    \n",
    "    # predict\n",
    "    sample_prediction['target'] = final_model.predict(X_test)\n",
    "    env.predict(sample_prediction)\n",
    "    counter += 1"
   ]
  },
  {
   "cell_type": "code",
   "execution_count": 21,
   "metadata": {},
   "outputs": [
    {
     "data": {
      "text/plain": [
       "array([[<Axes: title={'center': 'target'}>]], dtype=object)"
      ]
     },
     "execution_count": 21,
     "metadata": {},
     "output_type": "execute_result"
    },
    {
     "data": {
      "image/png": "[encoded data removed]",
      "text/plain": [
       "<Figure size 640x480 with 1 Axes>"
      ]
     },
     "metadata": {},
     "output_type": "display_data"
    }
   ],
   "source": [
    "sample_prediction.hist(column='target', bins=100, range=[-10,10])"
   ]
  },
  {
   "cell_type": "code",
   "execution_count": 22,
   "metadata": {},
   "outputs": [],
   "source": [
    "sample_prediction.to_csv('preds.csv')"
   ]
  },
  {
   "cell_type": "markdown",
   "metadata": {},
   "source": [
    "# RandomForest model"
   ]
  },
  {
   "cell_type": "code",
   "execution_count": 23,
   "metadata": {},
   "outputs": [
    {
     "name": "stdout",
     "output_type": "stream",
     "text": [
      "CatBoostRegressor\t EFeaturesSelectionAlgorithm\t EShapCalcType\t Pool\t X\t X_test\t X_train\t X_val\t combinations\t \n",
      "counter\t env\t feat_importances\t feature_engineering\t features\t final_model\t final_params\t iter_test\t key\t \n",
      "mean_absolute_error\t model\t np\t number_of_days\t optiver2023\t os\t params\t pd\t plt\t \n",
      "revealed_targets\t sample_prediction\t shap\t sns\t test\t testing_days\t testing_mask\t train\t train_pool\t \n",
      "training_days\t training_mask\t updates\t val_pool\t value\t y\t y_train\t y_val\t y_val_mae\t \n",
      "y_val_pred\t \n"
     ]
    }
   ],
   "source": [
    "%who"
   ]
  },
  {
   "cell_type": "markdown",
   "metadata": {},
   "source": [
    "## Fill NaN with mean"
   ]
  },
  {
   "cell_type": "code",
   "execution_count": 24,
   "metadata": {},
   "outputs": [
    {
     "name": "stdout",
     "output_type": "stream",
     "text": [
      "Размер X_train3: (5138892, 17)\n",
      "Размер X_val3: (99000, 17)\n",
      "Размер y_train3: (5138892,)\n",
      "Размер y_val3: (99000,)\n"
     ]
    }
   ],
   "source": [
    "# Fill NaN with mean\n",
    "from sklearn.impute import SimpleImputer\n",
    "\n",
    "imputer = SimpleImputer(strategy='mean')\n",
    "X_train3 = pd.DataFrame(imputer.fit_transform(X_train), columns=X_train.columns)\n",
    "X_val3 = pd.DataFrame(imputer.transform(X_val), columns=X_val.columns)\n",
    "y_train3 = y_train\n",
    "y_val3 = y_val\n",
    "\n",
    "# Проверка размеров новых данных\n",
    "print(\"Размер X_train3:\", X_train3.shape)\n",
    "print(\"Размер X_val3:\", X_val3.shape)\n",
    "print(\"Размер y_train3:\", y_train3.shape)\n",
    "print(\"Размер y_val3:\", y_val3.shape)"
   ]
  },
  {
   "cell_type": "code",
   "execution_count": null,
   "metadata": {},
   "outputs": [
    {
     "name": "stdout",
     "output_type": "stream",
     "text": [
      " 30%|██████████████▍                                 | 3/10 [27:44<1:20:31, 690.19s/trial, best loss: 5.598229417744103]"
     ]
    }
   ],
   "source": [
    "%%time\n",
    "\n",
    "from hyperopt import fmin, tpe, hp, Trials\n",
    "from sklearn.model_selection import cross_val_score\n",
    "from sklearn.ensemble import RandomForestRegressor\n",
    "import numpy as np\n",
    "from sklearn.metrics import mean_absolute_error\n",
    "\n",
    "# Целевая функция для оптимизации\n",
    "def objective(params):\n",
    "    integer_params = ['n_estimators', 'max_depth', 'min_samples_leaf', 'min_samples_split']\n",
    "    for param in integer_params:\n",
    "        params[param] = int(params[param])\n",
    "        \n",
    "    # Создание модели RandomForest с переданными параметрами\n",
    "    model = RandomForestRegressor(n_estimators=int(params['n_estimators']),\n",
    "                                  max_depth=int(params['max_depth']),\n",
    "                                  min_samples_leaf=int(params['min_samples_leaf']),\n",
    "                                  min_samples_split=int(params['min_samples_split']),\n",
    "                                  random_state=42, n_jobs=-1)\n",
    "    \n",
    "    # Оценка модели с использованием кросс-валидации и MAE\n",
    "    model.fit(X_train3, y_train3)\n",
    "    pred_val = model.predict(X_val3)\n",
    "    score_val = mean_absolute_error(y_val3, pred_val)\n",
    "    \n",
    "    # Возвращаем среднюю абсолютную ошибку\n",
    "    return score_val\n",
    "\n",
    "# Пространство поиска параметров\n",
    "space = {\n",
    "    'n_estimators':hp.uniform('n_estimators',10,200),\n",
    "    'max_depth':hp.uniform('max_depth',1,10),\n",
    "    'min_samples_leaf':hp.uniform('min_samples_leaf',1,5),\n",
    "    'min_samples_split':hp.uniform('min_samples_split',2,4)\n",
    "}\n",
    "\n",
    "trial=Trials()\n",
    "# Запуск оптимизации\n",
    "best = fmin(fn=objective,\n",
    "            space=space,\n",
    "            algo=tpe.suggest,\n",
    "            trials=trial,\n",
    "            max_evals=10)  # Количество итераций оптимизации\n",
    "\n",
    "print(\"Лучшие параметры:\", best)\n",
    "# Лучшие параметры: {'max_depth': 8.567822807835242, 'min_samples_leaf': 2.3577155274455373, 'min_samples_split': 3.599106077344635, 'n_estimators': 176.36415437301582}\n",
    "# CPU times: user 3h 10min 34s, sys: 30.5 s, total: 3h 11min 5s\n",
    "# Wall time: 24min 59s"
   ]
  },
  {
   "cell_type": "code",
   "execution_count": null,
   "metadata": {},
   "outputs": [],
   "source": [
    "best"
   ]
  },
  {
   "cell_type": "code",
   "execution_count": null,
   "metadata": {},
   "outputs": [],
   "source": [
    "rf_params = {'max_depth': int(best['max_depth']),\n",
    "             'min_samples_leaf': int(best['min_samples_leaf']),\n",
    "             'min_samples_split': int(best['min_samples_split']),\n",
    "             'n_estimators': int(best['n_estimators']),\n",
    "             'random_state':42}\n",
    "rf_params"
   ]
  },
  {
   "cell_type": "code",
   "execution_count": 26,
   "metadata": {},
   "outputs": [
    {
     "data": {
      "text/plain": [
       "{'max_depth': 6,\n",
       " 'min_samples_leaf': 4,\n",
       " 'min_samples_split': 2,\n",
       " 'n_estimators': 108,\n",
       " 'random_state': 42}"
      ]
     },
     "execution_count": 26,
     "metadata": {},
     "output_type": "execute_result"
    }
   ],
   "source": [
    "#rf_params = {'max_depth': 15, 'n_estimators': 100}\n",
    "rf_params = {'max_depth': 6, 'min_samples_leaf': 4, 'min_samples_split': 2, 'n_estimators': 108, 'random_state': 42}\n",
    "rf_params"
   ]
  },
  {
   "cell_type": "code",
   "execution_count": null,
   "metadata": {},
   "outputs": [],
   "source": [
    "%%time\n",
    "\n",
    "from sklearn.ensemble import RandomForestRegressor\n",
    "\n",
    "# Инициализация и обучение модели RandomForestRegressor\n",
    "reg = RandomForestRegressor(**rf_params, n_jobs=-1)\n",
    "reg.fit(X_train3, y_train3)"
   ]
  },
  {
   "cell_type": "code",
   "execution_count": null,
   "metadata": {},
   "outputs": [],
   "source": [
    "from sklearn.metrics import mean_absolute_error\n",
    "\n",
    "# Предсказание на тестовом наборе\n",
    "y_val_pred3 = reg.predict(X_val3)\n",
    "\n",
    "# Оценка MAE на тестовом наборе\n",
    "mae = mean_absolute_error(y_val3, y_val_pred3)\n",
    "print(f\"Mean Absolute Error (MAE) on validation set: {mae}\")\n",
    "# RandomForestRegressor(n_estimators=2, random_state=42, n_jobs=-1) - MAE = 6.421128252465519\n",
    "# RandomForestRegressor{'max_depth': 6, 'min_samples_leaf': 4, 'min_samples_split': 2, 'n_estimators': 108} - MAE = 4.650839659632199\n",
    "# RandomForestRegressor{'max_depth': 8, 'min_samples_leaf': 2, 'min_samples_split': 3, 'n_estimators': 176} - MAE = 5.598373134316486\n",
    "# RandomForestRegressor{'max_depth': 16.0, 'n_estimators': 95.0} - MAE = 5.600481479029908\n",
    "# RandomForestRegressor{'max_depth': 15.0, 'n_estimators': 100.0} - MAE = 5.600940496871642"
   ]
  },
  {
   "cell_type": "markdown",
   "metadata": {
    "jp-MarkdownHeadingCollapsed": true
   },
   "source": [
    "## Removed NaN"
   ]
  },
  {
   "cell_type": "code",
   "execution_count": 26,
   "metadata": {},
   "outputs": [
    {
     "name": "stdout",
     "output_type": "stream",
     "text": [
      "Размер X_train2: (2299468, 17)\n",
      "Размер y_train2: (2299468,)\n",
      "Размер X_val2: (44170, 17)\n",
      "Размер y_val2: (44170,)\n",
      "Размер groups: (2299468, 1)\n"
     ]
    }
   ],
   "source": [
    "# Remove NaN\n",
    "import pandas as pd\n",
    "\n",
    "# Удаление строк с пропущенными значениями из X_train и соответствующие метки y_train\n",
    "X_train2 = X_train.dropna()\n",
    "y_train2 = y_train[X_train2.index]\n",
    "\n",
    "groups = X_train2[['stock_id']].values\n",
    "\n",
    "X_val2 = X_val.dropna()\n",
    "y_val2 = y_val[X_val2.index] # соответствующие метки\n",
    "\n",
    "# Проверка размеров новых данных\n",
    "print(\"Размер X_train2:\", X_train2.shape)\n",
    "print(\"Размер y_train2:\", y_train2.shape)\n",
    "print(\"Размер X_val2:\", X_val2.shape)\n",
    "print(\"Размер y_val2:\", y_val2.shape)\n",
    "print(\"Размер groups:\", groups.shape)"
   ]
  },
  {
   "cell_type": "code",
   "execution_count": 60,
   "metadata": {},
   "outputs": [
    {
     "name": "stdout",
     "output_type": "stream",
     "text": [
      "100%|███████████████████████████████████████████████████| 2/2 [07:45<00:00, 232.58s/trial, best loss: 4.651306853796193]\n",
      "Лучшие параметры: {'max_depth': 6.310584517959263, 'min_samples_leaf': 3.514144882480505, 'min_samples_split': 2.4117253014985915, 'n_estimators': 108.91961721708014}\n",
      "CPU times: user 58min 50s, sys: 3.05 s, total: 58min 53s\n",
      "Wall time: 7min 45s\n"
     ]
    }
   ],
   "source": [
    "%%time\n",
    "\n",
    "from hyperopt import fmin, tpe, hp, Trials\n",
    "from sklearn.model_selection import cross_val_score\n",
    "from sklearn.ensemble import RandomForestRegressor\n",
    "import numpy as np\n",
    "from sklearn.metrics import mean_absolute_error\n",
    "\n",
    "# Целевая функция для оптимизации\n",
    "def objective(params):\n",
    "    integer_params = ['n_estimators', 'max_depth', 'min_samples_leaf', 'min_samples_split']\n",
    "    for param in integer_params:\n",
    "        params[param] = int(params[param])\n",
    "        \n",
    "    # Создание модели RandomForest с переданными параметрами\n",
    "    model = RandomForestRegressor(n_estimators=int(params['n_estimators']),\n",
    "                                  max_depth=int(params['max_depth']),\n",
    "                                  min_samples_leaf=int(params['min_samples_leaf']),\n",
    "                                  min_samples_split=int(params['min_samples_split']),\n",
    "                                  random_state=42, n_jobs=-1)\n",
    "    \n",
    "    # Оценка модели с использованием кросс-валидации и MAE\n",
    "    model.fit(X_train2, y_train2)\n",
    "    pred_val = model.predict(X_val2)\n",
    "    score_val = mean_absolute_error(y_val2, pred_val)\n",
    "    \n",
    "    # Возвращаем среднюю абсолютную ошибку\n",
    "    return score_val\n",
    "\n",
    "# Пространство поиска параметров\n",
    "space = {\n",
    "    'n_estimators':hp.uniform('n_estimators',10,200),\n",
    "    'max_depth':hp.uniform('max_depth',5,15),\n",
    "    'min_samples_leaf':hp.uniform('min_samples_leaf',1,5),\n",
    "    'min_samples_split':hp.uniform('min_samples_split',2,4)\n",
    "}\n",
    "\n",
    "trial=Trials()\n",
    "# Запуск оптимизации\n",
    "best = fmin(fn=objective,\n",
    "            space=space,\n",
    "            algo=tpe.suggest,\n",
    "            trials=trial,\n",
    "            max_evals=)  # Количество итераций оптимизации\n",
    "\n",
    "print(\"Лучшие параметры:\", best)\n",
    "# Лучшие параметры: {'max_depth': 6.310584517959263, 'min_samples_leaf': 3.514144882480505, 'min_samples_split': 2.4117253014985915, 'n_estimators': 108.91961721708014}\n",
    "# CPU times: user 58min 50s, sys: 3.05 s, total: 58min 53s\n",
    "# Wall time: 7min 45s"
   ]
  },
  {
   "cell_type": "code",
   "execution_count": 61,
   "metadata": {},
   "outputs": [
    {
     "data": {
      "text/plain": [
       "{'max_depth': [6.310584517959263],\n",
       " 'min_samples_leaf': [3.514144882480505],\n",
       " 'min_samples_split': [2.4117253014985915],\n",
       " 'n_estimators': [108.91961721708014]}"
      ]
     },
     "execution_count": 61,
     "metadata": {},
     "output_type": "execute_result"
    }
   ],
   "source": [
    "trial.best_trial['misc']['vals']"
   ]
  },
  {
   "cell_type": "code",
   "execution_count": 32,
   "metadata": {},
   "outputs": [],
   "source": [
    "rf_params = {'max_depth': 6, 'min_samples_leaf': 4, 'min_samples_split': 2, 'n_estimators': 108, 'random_state':42}"
   ]
  },
  {
   "cell_type": "code",
   "execution_count": 62,
   "metadata": {},
   "outputs": [
    {
     "name": "stdout",
     "output_type": "stream",
     "text": [
      "CPU times: user 38min 4s, sys: 625 ms, total: 38min 4s\n",
      "Wall time: 4min 58s\n"
     ]
    },
    {
     "data": {
      "text/html": [
       "<style>#sk-container-id-2 {color: black;}#sk-container-id-2 pre{padding: 0;}#sk-container-id-2 div.sk-toggleable {background-color: white;}#sk-container-id-2 label.sk-toggleable__label {cursor: pointer;display: block;width: 100%;margin-bottom: 0;padding: 0.3em;box-sizing: border-box;text-align: center;}#sk-container-id-2 label.sk-toggleable__label-arrow:before {content: \"▸\";float: left;margin-right: 0.25em;color: #696969;}#sk-container-id-2 label.sk-toggleable__label-arrow:hover:before {color: black;}#sk-container-id-2 div.sk-estimator:hover label.sk-toggleable__label-arrow:before {color: black;}#sk-container-id-2 div.sk-toggleable__content {max-height: 0;max-width: 0;overflow: hidden;text-align: left;background-color: #f0f8ff;}#sk-container-id-2 div.sk-toggleable__content pre {margin: 0.2em;color: black;border-radius: 0.25em;background-color: #f0f8ff;}#sk-container-id-2 input.sk-toggleable__control:checked~div.sk-toggleable__content {max-height: 200px;max-width: 100%;overflow: auto;}#sk-container-id-2 input.sk-toggleable__control:checked~label.sk-toggleable__label-arrow:before {content: \"▾\";}#sk-container-id-2 div.sk-estimator input.sk-toggleable__control:checked~label.sk-toggleable__label {background-color: #d4ebff;}#sk-container-id-2 div.sk-label input.sk-toggleable__control:checked~label.sk-toggleable__label {background-color: #d4ebff;}#sk-container-id-2 input.sk-hidden--visually {border: 0;clip: rect(1px 1px 1px 1px);clip: rect(1px, 1px, 1px, 1px);height: 1px;margin: -1px;overflow: hidden;padding: 0;position: absolute;width: 1px;}#sk-container-id-2 div.sk-estimator {font-family: monospace;background-color: #f0f8ff;border: 1px dotted black;border-radius: 0.25em;box-sizing: border-box;margin-bottom: 0.5em;}#sk-container-id-2 div.sk-estimator:hover {background-color: #d4ebff;}#sk-container-id-2 div.sk-parallel-item::after {content: \"\";width: 100%;border-bottom: 1px solid gray;flex-grow: 1;}#sk-container-id-2 div.sk-label:hover label.sk-toggleable__label {background-color: #d4ebff;}#sk-container-id-2 div.sk-serial::before {content: \"\";position: absolute;border-left: 1px solid gray;box-sizing: border-box;top: 0;bottom: 0;left: 50%;z-index: 0;}#sk-container-id-2 div.sk-serial {display: flex;flex-direction: column;align-items: center;background-color: white;padding-right: 0.2em;padding-left: 0.2em;position: relative;}#sk-container-id-2 div.sk-item {position: relative;z-index: 1;}#sk-container-id-2 div.sk-parallel {display: flex;align-items: stretch;justify-content: center;background-color: white;position: relative;}#sk-container-id-2 div.sk-item::before, #sk-container-id-2 div.sk-parallel-item::before {content: \"\";position: absolute;border-left: 1px solid gray;box-sizing: border-box;top: 0;bottom: 0;left: 50%;z-index: -1;}#sk-container-id-2 div.sk-parallel-item {display: flex;flex-direction: column;z-index: 1;position: relative;background-color: white;}#sk-container-id-2 div.sk-parallel-item:first-child::after {align-self: flex-end;width: 50%;}#sk-container-id-2 div.sk-parallel-item:last-child::after {align-self: flex-start;width: 50%;}#sk-container-id-2 div.sk-parallel-item:only-child::after {width: 0;}#sk-container-id-2 div.sk-dashed-wrapped {border: 1px dashed gray;margin: 0 0.4em 0.5em 0.4em;box-sizing: border-box;padding-bottom: 0.4em;background-color: white;}#sk-container-id-2 div.sk-label label {font-family: monospace;font-weight: bold;display: inline-block;line-height: 1.2em;}#sk-container-id-2 div.sk-label-container {text-align: center;}#sk-container-id-2 div.sk-container {/* jupyter's `normalize.less` sets `[hidden] { display: none; }` but bootstrap.min.css set `[hidden] { display: none !important; }` so we also need the `!important` here to be able to override the default hidden behavior on the sphinx rendered scikit-learn.org. See: https://github.com/scikit-learn/scikit-learn/issues/21755 */display: inline-block !important;position: relative;}#sk-container-id-2 div.sk-text-repr-fallback {display: none;}</style><div id=\"sk-container-id-2\" class=\"sk-top-container\"><div class=\"sk-text-repr-fallback\"><pre>RandomForestRegressor(max_depth=6, min_samples_leaf=4, n_estimators=108,\n",
       "                      n_jobs=-1, random_state=42)</pre><b>In a Jupyter environment, please rerun this cell to show the HTML representation or trust the notebook. <br />On GitHub, the HTML representation is unable to render, please try loading this page with nbviewer.org.</b></div><div class=\"sk-container\" hidden><div class=\"sk-item\"><div class=\"sk-estimator sk-toggleable\"><input class=\"sk-toggleable__control sk-hidden--visually\" id=\"sk-estimator-id-2\" type=\"checkbox\" checked><label for=\"sk-estimator-id-2\" class=\"sk-toggleable__label sk-toggleable__label-arrow\">RandomForestRegressor</label><div class=\"sk-toggleable__content\"><pre>RandomForestRegressor(max_depth=6, min_samples_leaf=4, n_estimators=108,\n",
       "                      n_jobs=-1, random_state=42)</pre></div></div></div></div></div>"
      ],
      "text/plain": [
       "RandomForestRegressor(max_depth=6, min_samples_leaf=4, n_estimators=108,\n",
       "                      n_jobs=-1, random_state=42)"
      ]
     },
     "execution_count": 62,
     "metadata": {},
     "output_type": "execute_result"
    }
   ],
   "source": [
    "%%time\n",
    "\n",
    "from sklearn.ensemble import RandomForestRegressor\n",
    "\n",
    "# Инициализация и обучение модели RandomForestRegressor\n",
    "rf_params = {'max_depth': 6, 'min_samples_leaf': 4, 'min_samples_split': 2, 'n_estimators': 108, 'random_state':42}\n",
    "reg = RandomForestRegressor(**rf_params, n_jobs=-1)\n",
    "reg.fit(X_train2, y_train2)"
   ]
  },
  {
   "cell_type": "code",
   "execution_count": 63,
   "metadata": {},
   "outputs": [
    {
     "name": "stdout",
     "output_type": "stream",
     "text": [
      "Mean Absolute Error (MAE) on validation set: 4.650839659632199\n"
     ]
    }
   ],
   "source": [
    "from sklearn.metrics import mean_absolute_error\n",
    "\n",
    "# Предсказание на тестовом наборе\n",
    "y_val_pred = reg.predict(X_val2)\n",
    "\n",
    "# Оценка MAE на тестовом наборе\n",
    "mae = mean_absolute_error(y_val2, y_val_pred)\n",
    "print(f\"Mean Absolute Error (MAE) on validation set: {mae}\")\n",
    "# RandomForestRegressor(n_estimators=2, random_state=42, n_jobs=-1) - MAE = 6.421128252465519\n",
    "# RandomForestRegressor{'max_depth': 6, 'min_samples_leaf': 4, 'min_samples_split': 2, 'n_estimators': 108} - MAE = 4.650839659632199\n",
    "# RandomForestRegressor{'max_depth': 8, 'min_samples_leaf': 2, 'min_samples_split': 3, 'n_estimators': 176} - MAE = 5.598373134316486"
   ]
  },
  {
   "cell_type": "markdown",
   "metadata": {},
   "source": [
    "# LightGBM"
   ]
  },
  {
   "cell_type": "code",
   "execution_count": null,
   "metadata": {},
   "outputs": [],
   "source": [
    "from lightgbm import LGBMRegressor\n",
    "from hyperopt import fmin, tpe, hp, Trials\n",
    "from sklearn.model_selection import cross_val_score\n",
    "from sklearn.ensemble import RandomForestRegressor\n",
    "import numpy as np\n",
    "from sklearn.metrics import mean_absolute_error\n",
    "\n",
    "# Целевая функция для оптимизации\n",
    "def objective(params):\n",
    "    integer_params = ['max_depth', 'max_bin', 'min_data_in_leaf', 'min_data_in_bin']\n",
    "    for param in integer_params:\n",
    "        params[param] = int(params[param])\n",
    "        \n",
    "    # Создание модели RandomForest с переданными параметрами\n",
    "    model = LGBMRegressor(**params, random_state=42, n_jobs=-1, verbose=-1)\n",
    "    \n",
    "    # Оценка модели с использованием кросс-валидации и MAE\n",
    "    model.fit(X_train3, y_train3)\n",
    "    pred_val = model.predict(X_val3)\n",
    "    score_val = mean_absolute_error(y_val3, pred_val)\n",
    "    \n",
    "    # Возвращаем среднюю абсолютную ошибку\n",
    "    return score_val\n",
    "\n",
    "# Пространство поиска параметров\n",
    "space = {\n",
    "    'max_depth': hp.uniform('max_depth', 1, 10),\n",
    "    'max_bin': hp.uniform('max_bin', 8, 128),\n",
    "    'min_data_in_leaf': hp.uniform('min_data_in_leaf', 1, 128),\n",
    "    'min_data_in_bin': hp.uniform('min_data_in_bin', 1, 128),\n",
    "    'lambda_l1' : hp.uniform('lambda_l1', 0, 5),\n",
    "    'lambda_l2' : hp.uniform('lambda_l2', 0, 5),\n",
    "    'learning_rate' : hp.loguniform('learning_rate', np.log(0.005), np.log(0.2)),\n",
    "}\n",
    "\n",
    "trial=Trials()\n",
    "# Запуск оптимизации\n",
    "best = fmin(fn=objective,\n",
    "            space=space,\n",
    "            algo=tpe.suggest,\n",
    "            trials=trial,\n",
    "            max_evals=50)  # Количество итераций оптимизации\n",
    "\n",
    "print(\"Лучшие параметры:\", best)\n",
    "# 100%|████████████████████████████████████████████████████| 2/2 [00:23<00:00, 11.72s/trial, best loss: 5.586901350208979]\n",
    "# Лучшие параметры: {'lambda_l1': 4.018491344117171, 'lambda_l2': 0.8974631475521905, 'learning_rate': 0.1344734584967915, 'max_bin': 24.91893987386775,\n",
    "#                    'max_depth': 9.710960846688883, 'min_data_in_bin': 71.94624932857133, 'min_data_in_leaf': 52.698863279044886}"
   ]
  },
  {
   "cell_type": "code",
   "execution_count": null,
   "metadata": {},
   "outputs": [],
   "source": [
    "best"
   ]
  },
  {
   "cell_type": "code",
   "execution_count": null,
   "metadata": {},
   "outputs": [],
   "source": [
    "lgbm_params = {'lambda_l1': best['lambda_l1'],\n",
    "               'lambda_l2': best['lambda_l2'],\n",
    "               'learning_rate': best['learning_rate'],\n",
    "               'max_bin': int(best['max_bin']),\n",
    "               'max_depth': int(best['max_depth']),\n",
    "               'min_data_in_bin': int(best['min_data_in_bin']),\n",
    "               'min_data_in_leaf': int(best['min_data_in_leaf']),\n",
    "               'random_state':42}"
   ]
  },
  {
   "cell_type": "code",
   "execution_count": 27,
   "metadata": {},
   "outputs": [
    {
     "data": {
      "text/plain": [
       "{'lambda_l1': 0.983981994876158,\n",
       " 'lambda_l2': 1.462348885589403,\n",
       " 'learning_rate': 0.051986060592623076,\n",
       " 'max_bin': 33,\n",
       " 'max_depth': 2,\n",
       " 'min_data_in_bin': 17,\n",
       " 'min_data_in_leaf': 53,\n",
       " 'random_state': 42}"
      ]
     },
     "execution_count": 27,
     "metadata": {},
     "output_type": "execute_result"
    }
   ],
   "source": [
    "lgbm_params = {'lambda_l1': 0.983981994876158, 'lambda_l2': 1.462348885589403, 'learning_rate': 0.051986060592623076,\n",
    "               'max_bin': 33, 'max_depth': 2, 'min_data_in_bin': 17, 'min_data_in_leaf': 53, 'random_state': 42}\n",
    "lgbm_params"
   ]
  },
  {
   "cell_type": "code",
   "execution_count": null,
   "metadata": {},
   "outputs": [],
   "source": [
    "%%time\n",
    "\n",
    "from lightgbm import LGBMRegressor\n",
    "\n",
    "# Инициализация и обучение модели RandomForestRegressor\n",
    "lgbm_params = {'lambda_l1': best['lambda_l1'],\n",
    "               'lambda_l2': best['lambda_l2'],\n",
    "               'learning_rate': best['learning_rate'],\n",
    "               'max_bin': int(best['max_bin']),\n",
    "               'max_depth': int(best['max_depth']),\n",
    "               'min_data_in_bin': int(best['min_data_in_bin']),\n",
    "               'min_data_in_leaf': int(best['min_data_in_leaf']),\n",
    "               'random_state':42}\n",
    "lgbm = LGBMRegressor(**lgbm_params, n_jobs=-1, verbose=-1)\n",
    "lgbm.fit(X_train3, y_train3)"
   ]
  },
  {
   "cell_type": "code",
   "execution_count": null,
   "metadata": {},
   "outputs": [],
   "source": [
    "from sklearn.metrics import mean_absolute_error\n",
    "\n",
    "# Предсказание на тестовом наборе\n",
    "y_val_pred = lgbm.predict(X_val3)\n",
    "\n",
    "# Оценка MAE на тестовом наборе\n",
    "mae = mean_absolute_error(y_val3, y_val_pred)\n",
    "print(f\"Mean Absolute Error (MAE) on validation set: {mae}\")\n",
    "'''\n",
    "RandomForestRegressor(n_estimators=2, random_state=42) - MAE = 6.421128252465519\n",
    "RandomForestRegressor{'max_depth': 6, 'min_samples_leaf': 4, 'min_samples_split': 2, 'n_estimators': 108} - MAE = 4.650839659632199\n",
    "RandomForestRegressor{'max_depth': 8, 'min_samples_leaf': 2, 'min_samples_split': 3, 'n_estimators': 176} - MAE = 5.598373134316486\n",
    "LGBMRegressor(lambda_l1=0.983981994876158, lambda_l2=1.462348885589403, learning_rate=0.051986060592623076,\n",
    "              max_bin=33, max_depth=2, min_data_in_bin=17, min_data_in_leaf=53) - MAE = 5.6032810566059466\n",
    "'''"
   ]
  },
  {
   "cell_type": "markdown",
   "metadata": {},
   "source": [
    "# Stacking"
   ]
  },
  {
   "cell_type": "code",
   "execution_count": null,
   "metadata": {},
   "outputs": [],
   "source": [
    "rf_params"
   ]
  },
  {
   "cell_type": "code",
   "execution_count": null,
   "metadata": {},
   "outputs": [],
   "source": [
    "lgbm_params"
   ]
  },
  {
   "cell_type": "code",
   "execution_count": null,
   "metadata": {},
   "outputs": [],
   "source": [
    "from sklearn.ensemble import RandomForestRegressor\n",
    "from lightgbm import LGBMRegressor\n",
    "rf = RandomForestRegressor(**rf_params, n_jobs=-1)\n",
    "lgbm = LGBMRegressor(**lgbm_params, n_jobs=-1, verbose=-1)"
   ]
  },
  {
   "cell_type": "code",
   "execution_count": null,
   "metadata": {},
   "outputs": [],
   "source": [
    "%%time\n",
    "\n",
    "from sklearn.model_selection import GroupKFold\n",
    "\n",
    "rf_preds = []\n",
    "lgbm_preds = []\n",
    "cv = GroupKFold(n_splits=5)\n",
    "groups = X_train3[['stock_id']].values\n",
    "for train_idx, val_idx in cv.split(X_train3, y_train3, groups = groups):\n",
    "    rf = RandomForestRegressor(**rf_params, n_jobs=-1)\n",
    "    lgbm = LGBMRegressor(**lgbm_params, n_jobs=-1, verbose=-1)\n",
    "    X_train_cv, y_train_cv = X_train3.iloc[train_idx, :].drop(columns='stock_id'), y_train3.iloc[train_idx]\n",
    "    X_val, y_val = X_train3.iloc[val_idx, :].drop(columns='stock_id'), y_train3.iloc[val_idx]\n",
    "    rf.fit(X_train_cv, y_train_cv)\n",
    "    rf_pred = rf.predict(X_val)\n",
    "    rf_preds.append(rf_pred)\n",
    "    lgbm.fit(X_train_cv, y_train_cv)\n",
    "    lgbm_pred = lgbm.predict(X_val)\n",
    "    lgbm_preds.append(lgbm_pred)\n",
    "    \n",
    "    rf_score = mean_absolute_error(y_val, rf_pred)\n",
    "    lgbm_score = mean_absolute_error(y_val, lgbm_pred)\n",
    "    \n",
    "    print(rf_score, lgbm_score)"
   ]
  },
  {
   "cell_type": "code",
   "execution_count": null,
   "metadata": {},
   "outputs": [],
   "source": [
    "train_features = np.concatenate((np.hstack(rf_preds).reshape(-1, 1), np.hstack(lgbm_preds).reshape(-1, 1)), axis=1)"
   ]
  },
  {
   "cell_type": "code",
   "execution_count": null,
   "metadata": {},
   "outputs": [],
   "source": [
    "print(train_features)\n",
    "print(train_features.shape)"
   ]
  },
  {
   "cell_type": "code",
   "execution_count": null,
   "metadata": {},
   "outputs": [],
   "source": [
    "np.save('./train_features.npy', train_features)"
   ]
  },
  {
   "cell_type": "code",
   "execution_count": null,
   "metadata": {},
   "outputs": [],
   "source": [
    "test_features = []\n",
    "rf.fit(X_train3.drop(columns='stock_id'), y_train3)\n",
    "test_features.append(rf.predict(X_val3.drop(columns='stock_id')))\n",
    "lgbm.fit(X_train3.drop(columns='stock_id'), y_train3)\n",
    "test_features.append(lgbm.predict(X_val3.drop(columns='stock_id')))"
   ]
  },
  {
   "cell_type": "code",
   "execution_count": null,
   "metadata": {},
   "outputs": [],
   "source": [
    "test_features = np.concatenate((test_features[0].reshape(-1, 1), test_features[1].reshape(-1, 1)), axis=1)"
   ]
  },
  {
   "cell_type": "code",
   "execution_count": null,
   "metadata": {},
   "outputs": [],
   "source": [
    "print(test_features)\n",
    "print(test_features.shape)"
   ]
  },
  {
   "cell_type": "code",
   "execution_count": null,
   "metadata": {},
   "outputs": [],
   "source": [
    "np.save('./test_features.npy', test_features)"
   ]
  },
  {
   "cell_type": "code",
   "execution_count": null,
   "metadata": {},
   "outputs": [],
   "source": [
    "train_features = np.load('./train_features.npy')\n",
    "print(train_features)\n",
    "print(train_features.shape)"
   ]
  },
  {
   "cell_type": "code",
   "execution_count": null,
   "metadata": {},
   "outputs": [],
   "source": [
    "test_features = np.load('./test_features.npy')\n",
    "print(test_features)\n",
    "print(test_features.shape)"
   ]
  },
  {
   "cell_type": "code",
   "execution_count": null,
   "metadata": {},
   "outputs": [],
   "source": [
    "from catboost import CatBoostRegressor\n",
    "meta_model = CatBoostRegressor(random_seed=42, verbose=False, loss_function='MAE')"
   ]
  },
  {
   "cell_type": "code",
   "execution_count": null,
   "metadata": {},
   "outputs": [],
   "source": [
    "%%time\n",
    "\n",
    "meta_model.fit(train_features, y_train3)\n",
    "meta_test_predict = meta_model.predict(test_features)"
   ]
  },
  {
   "cell_type": "code",
   "execution_count": null,
   "metadata": {},
   "outputs": [],
   "source": [
    "# Оценка MAE на тестовом наборе\n",
    "mae = mean_absolute_error(y_val3, meta_test_predict)\n",
    "print(f\"Mean Absolute Error (MAE) on validation set: {mae}\")"
   ]
  },
  {
   "cell_type": "markdown",
   "metadata": {},
   "source": [
    "# StackingRegressor test"
   ]
  },
  {
   "cell_type": "code",
   "execution_count": null,
   "metadata": {},
   "outputs": [],
   "source": [
    "%%time\n",
    "\n",
    "from sklearn.ensemble import StackingRegressor\n",
    "from sklearn.model_selection import GroupKFold\n",
    "\n",
    "estimators = [('rf2', rf), ('lgbm2', lgbm)]\n",
    "\n",
    "cv = GroupKFold(n_splits=5)\n",
    "# groups = X_train3[['stock_id']].values\n",
    "\n",
    "stacking_regressor = StackingRegressor(\n",
    "    estimators=estimators,\n",
    "    final_estimator=rf,\n",
    "    cv = cv,\n",
    "    n_jobs = -1\n",
    ")\n",
    "\n",
    "# Обучение модели\n",
    "stacking_regressor.fit(X_train3, y_train3)\n",
    "# CPU times: user 12min 4s, sys: 44.7 s, total: 12min 49s\n",
    "# Wall time: 1h 24min 23s"
   ]
  },
  {
   "cell_type": "code",
   "execution_count": null,
   "metadata": {},
   "outputs": [],
   "source": [
    "from sklearn.metrics import mean_absolute_error\n",
    "\n",
    "# Предсказание на тестовом наборе\n",
    "y_val_pred = stacking_regressor.predict(X_val3)\n",
    "\n",
    "# Оценка MAE на тестовом наборе\n",
    "mae = mean_absolute_error(y_val3, y_val_pred)\n",
    "print(f\"Mean Absolute Error (MAE) on validation set: {mae}\")\n",
    "# Mean Absolute Error (MAE) on validation set: 5.601649984021021\n",
    "'''\n",
    "RandomForestRegressor(n_estimators=2, random_state=42) - MAE = 6.421128252465519\n",
    "RandomForestRegressor{'max_depth': 6, 'min_samples_leaf': 4, 'min_samples_split': 2, 'n_estimators': 108} - MAE = 4.650839659632199\n",
    "RandomForestRegressor{'max_depth': 8, 'min_samples_leaf': 2, 'min_samples_split': 3, 'n_estimators': 176} - MAE = 5.598373134316486\n",
    "LGBMRegressor(lambda_l1=0.983981994876158, lambda_l2=1.462348885589403, learning_rate=0.051986060592623076,\n",
    "              max_bin=33, max_depth=2, min_data_in_bin=17, min_data_in_leaf=53) - MAE = 5.6032810566059466\n",
    "StackingRegressor(\n",
    "    estimators = RandomForestRegressor('max_depth': 6, 'min_samples_leaf': 4, 'min_samples_split': 2, 'n_estimators': 108),\n",
    "                 LGBMRegressor(lambda_l1=0.983981994876158, lambda_l2=1.462348885589403, learning_rate=0.051986060592623076,\n",
    "                               max_bin=33, max_depth=2, min_data_in_bin=17, min_data_in_leaf=53)\n",
    "    final_estimator = RandomForestRegressor('max_depth': 6, 'min_samples_leaf': 4, 'min_samples_split': 2, 'n_estimators': 108)\n",
    ") - MAE = 5.601649984021021\n",
    "'''"
   ]
  },
  {
   "cell_type": "markdown",
   "metadata": {
    "jp-MarkdownHeadingCollapsed": true
   },
   "source": [
    "# OLD"
   ]
  },
  {
   "cell_type": "code",
   "execution_count": 50,
   "metadata": {},
   "outputs": [
    {
     "name": "stdout",
     "output_type": "stream",
     "text": [
      "CPU times: user 7min 46s, sys: 2.08 s, total: 7min 48s\n",
      "Wall time: 2min 1s\n"
     ]
    },
    {
     "data": {
      "text/html": [
       "<style>#sk-container-id-1 {color: black;}#sk-container-id-1 pre{padding: 0;}#sk-container-id-1 div.sk-toggleable {background-color: white;}#sk-container-id-1 label.sk-toggleable__label {cursor: pointer;display: block;width: 100%;margin-bottom: 0;padding: 0.3em;box-sizing: border-box;text-align: center;}#sk-container-id-1 label.sk-toggleable__label-arrow:before {content: \"▸\";float: left;margin-right: 0.25em;color: #696969;}#sk-container-id-1 label.sk-toggleable__label-arrow:hover:before {color: black;}#sk-container-id-1 div.sk-estimator:hover label.sk-toggleable__label-arrow:before {color: black;}#sk-container-id-1 div.sk-toggleable__content {max-height: 0;max-width: 0;overflow: hidden;text-align: left;background-color: #f0f8ff;}#sk-container-id-1 div.sk-toggleable__content pre {margin: 0.2em;color: black;border-radius: 0.25em;background-color: #f0f8ff;}#sk-container-id-1 input.sk-toggleable__control:checked~div.sk-toggleable__content {max-height: 200px;max-width: 100%;overflow: auto;}#sk-container-id-1 input.sk-toggleable__control:checked~label.sk-toggleable__label-arrow:before {content: \"▾\";}#sk-container-id-1 div.sk-estimator input.sk-toggleable__control:checked~label.sk-toggleable__label {background-color: #d4ebff;}#sk-container-id-1 div.sk-label input.sk-toggleable__control:checked~label.sk-toggleable__label {background-color: #d4ebff;}#sk-container-id-1 input.sk-hidden--visually {border: 0;clip: rect(1px 1px 1px 1px);clip: rect(1px, 1px, 1px, 1px);height: 1px;margin: -1px;overflow: hidden;padding: 0;position: absolute;width: 1px;}#sk-container-id-1 div.sk-estimator {font-family: monospace;background-color: #f0f8ff;border: 1px dotted black;border-radius: 0.25em;box-sizing: border-box;margin-bottom: 0.5em;}#sk-container-id-1 div.sk-estimator:hover {background-color: #d4ebff;}#sk-container-id-1 div.sk-parallel-item::after {content: \"\";width: 100%;border-bottom: 1px solid gray;flex-grow: 1;}#sk-container-id-1 div.sk-label:hover label.sk-toggleable__label {background-color: #d4ebff;}#sk-container-id-1 div.sk-serial::before {content: \"\";position: absolute;border-left: 1px solid gray;box-sizing: border-box;top: 0;bottom: 0;left: 50%;z-index: 0;}#sk-container-id-1 div.sk-serial {display: flex;flex-direction: column;align-items: center;background-color: white;padding-right: 0.2em;padding-left: 0.2em;position: relative;}#sk-container-id-1 div.sk-item {position: relative;z-index: 1;}#sk-container-id-1 div.sk-parallel {display: flex;align-items: stretch;justify-content: center;background-color: white;position: relative;}#sk-container-id-1 div.sk-item::before, #sk-container-id-1 div.sk-parallel-item::before {content: \"\";position: absolute;border-left: 1px solid gray;box-sizing: border-box;top: 0;bottom: 0;left: 50%;z-index: -1;}#sk-container-id-1 div.sk-parallel-item {display: flex;flex-direction: column;z-index: 1;position: relative;background-color: white;}#sk-container-id-1 div.sk-parallel-item:first-child::after {align-self: flex-end;width: 50%;}#sk-container-id-1 div.sk-parallel-item:last-child::after {align-self: flex-start;width: 50%;}#sk-container-id-1 div.sk-parallel-item:only-child::after {width: 0;}#sk-container-id-1 div.sk-dashed-wrapped {border: 1px dashed gray;margin: 0 0.4em 0.5em 0.4em;box-sizing: border-box;padding-bottom: 0.4em;background-color: white;}#sk-container-id-1 div.sk-label label {font-family: monospace;font-weight: bold;display: inline-block;line-height: 1.2em;}#sk-container-id-1 div.sk-label-container {text-align: center;}#sk-container-id-1 div.sk-container {/* jupyter's `normalize.less` sets `[hidden] { display: none; }` but bootstrap.min.css set `[hidden] { display: none !important; }` so we also need the `!important` here to be able to override the default hidden behavior on the sphinx rendered scikit-learn.org. See: https://github.com/scikit-learn/scikit-learn/issues/21755 */display: inline-block !important;position: relative;}#sk-container-id-1 div.sk-text-repr-fallback {display: none;}</style><div id=\"sk-container-id-1\" class=\"sk-top-container\"><div class=\"sk-text-repr-fallback\"><pre>RandomForestRegressor(n_estimators=2, n_jobs=-1, random_state=42)</pre><b>In a Jupyter environment, please rerun this cell to show the HTML representation or trust the notebook. <br />On GitHub, the HTML representation is unable to render, please try loading this page with nbviewer.org.</b></div><div class=\"sk-container\" hidden><div class=\"sk-item\"><div class=\"sk-estimator sk-toggleable\"><input class=\"sk-toggleable__control sk-hidden--visually\" id=\"sk-estimator-id-1\" type=\"checkbox\" checked><label for=\"sk-estimator-id-1\" class=\"sk-toggleable__label sk-toggleable__label-arrow\">RandomForestRegressor</label><div class=\"sk-toggleable__content\"><pre>RandomForestRegressor(n_estimators=2, n_jobs=-1, random_state=42)</pre></div></div></div></div></div>"
      ],
      "text/plain": [
       "RandomForestRegressor(n_estimators=2, n_jobs=-1, random_state=42)"
      ]
     },
     "execution_count": 50,
     "metadata": {},
     "output_type": "execute_result"
    }
   ],
   "source": [
    "%%time\n",
    "\n",
    "from sklearn.ensemble import RandomForestRegressor\n",
    "\n",
    "# Инициализация и обучение модели RandomForestRegressor\n",
    "reg = RandomForestRegressor(n_estimators=2, random_state=42, n_jobs=-1)\n",
    "reg.fit(X_train2, y_train2)\n",
    "\n",
    "# Предсказание на тестовом наборе\n",
    "#y_pred = reg.predict(X_val2)"
   ]
  },
  {
   "cell_type": "code",
   "execution_count": 51,
   "metadata": {},
   "outputs": [
    {
     "name": "stdout",
     "output_type": "stream",
     "text": [
      "Mean Absolute Error (MAE) on validation set: 6.421128252465519\n"
     ]
    }
   ],
   "source": [
    "from sklearn.metrics import mean_absolute_error\n",
    "\n",
    "# Предсказание на тестовом наборе\n",
    "y_val_pred = reg.predict(X_val2)\n",
    "\n",
    "# Оценка MAE на тестовом наборе\n",
    "mae = mean_absolute_error(y_val2, y_val_pred)\n",
    "print(f\"Mean Absolute Error (MAE) on validation set: {mae}\")\n",
    "# RandomForestRegressor(n_estimators=2, random_state=42, n_jobs=-1) - MAE = 6.421128252465519"
   ]
  },
  {
   "cell_type": "code",
   "execution_count": null,
   "metadata": {},
   "outputs": [
    {
     "name": "stdout",
     "output_type": "stream",
     "text": [
      " 22%|██████████▎                                    | 11/50 [40:52<3:15:34, 300.89s/trial, best loss: 4.636188862423079]"
     ]
    }
   ],
   "source": [
    "from hyperopt import fmin, tpe, hp\n",
    "from sklearn.model_selection import cross_val_score\n",
    "from sklearn.ensemble import RandomForestRegressor\n",
    "import numpy as np\n",
    "from sklearn.metrics import mean_absolute_error\n",
    "\n",
    "# Целевая функция для оптимизации\n",
    "def objective(params):\n",
    "    # Создание модели RandomForest с переданными параметрами\n",
    "    model = RandomForestRegressor(n_estimators=int(params['n_estimators']),\n",
    "                                  max_depth=int(params['max_depth']),\n",
    "                                  random_state=42, n_jobs=-1)\n",
    "    \n",
    "    # Оценка модели с использованием кросс-валидации и MAE\n",
    "    model.fit(X_train2, y_train2)\n",
    "    pred_val = model.predict(X_val2)\n",
    "    score_val = mean_absolute_error(y_val2, pred_val)\n",
    "    \n",
    "    # Возвращаем среднюю абсолютную ошибку\n",
    "    return score_val\n",
    "\n",
    "# Пространство поиска параметров\n",
    "space = {\n",
    "    'n_estimators': hp.quniform('n_estimators', 10, 100, 1),\n",
    "    'max_depth': hp.quniform('max_depth', 1, 20, 1)\n",
    "}\n",
    "\n",
    "# Запуск оптимизации\n",
    "best = fmin(fn=objective,\n",
    "            space=space,\n",
    "            algo=tpe.suggest,\n",
    "            max_evals=50)  # Количество итераций оптимизации\n",
    "\n",
    "print(\"Лучшие параметры:\", best)\n"
   ]
  },
  {
   "cell_type": "code",
   "execution_count": null,
   "metadata": {},
   "outputs": [],
   "source": []
  }
 ],
 "metadata": {
  "kaggle": {
   "accelerator": "nvidiaTeslaT4",
   "dataSources": [
    {
     "databundleVersionId": 7056235,
     "sourceId": 57891,
     "sourceType": "competition"
    }
   ],
   "dockerImageVersionId": 30588,
   "isGpuEnabled": true,
   "isInternetEnabled": false,
   "language": "python",
   "sourceType": "notebook"
  },
  "kernelspec": {
   "display_name": "Python 3 (ipykernel)",
   "language": "python",
   "name": "python3"
  },
  "language_info": {
   "codemirror_mode": {
    "name": "ipython",
    "version": 3
   },
   "file_extension": ".py",
   "mimetype": "text/x-python",
   "name": "python",
   "nbconvert_exporter": "python",
   "pygments_lexer": "ipython3",
   "version": "3.10.12"
  }
 },
 "nbformat": 4,
 "nbformat_minor": 4
}

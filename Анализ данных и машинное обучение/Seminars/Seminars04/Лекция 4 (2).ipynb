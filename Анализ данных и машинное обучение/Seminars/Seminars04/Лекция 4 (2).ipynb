{
 "cells": [
  {
   "cell_type": "code",
   "execution_count": 9,
   "id": "377ce8a3",
   "metadata": {},
   "outputs": [],
   "source": [
    "import pandas as pd\n",
    "import numpy as np\n",
    "import matplotlib.pyplot as plt\n",
    "from sklearn.tree import DecisionTreeRegressor\n",
    "from sklearn.metrics import r2_score\n",
    "from sklearn import tree\n",
    "from sklearn.tree import DecisionTreeClassifier\n",
    "from sklearn.ensemble import BaggingClassifier\n",
    "from sklearn import preprocessing\n",
    "from sklearn.model_selection import train_test_split\n",
    "from sklearn.metrics import roc_auc_score"
   ]
  },
  {
   "cell_type": "code",
   "execution_count": 10,
   "id": "bdf81f81",
   "metadata": {},
   "outputs": [],
   "source": [
    "df = pd.read_csv(\"fruits.csv\", usecols=[\"weight\", \"color\",\"target\"])\n",
    "le = preprocessing.LabelEncoder() \n",
    "df.color = le.fit_transform(df.color)\n",
    "df.target = le.fit_transform(df.target)"
   ]
  },
  {
   "cell_type": "code",
   "execution_count": 11,
   "id": "71803127",
   "metadata": {},
   "outputs": [],
   "source": [
    "X = df[[\"weight\",\"color\"]]\n",
    "y = df.target\n",
    "X_train, X_test, y_train, y_test = train_test_split(X, y)"
   ]
  },
  {
   "cell_type": "code",
   "execution_count": 25,
   "id": "6cf565f0",
   "metadata": {},
   "outputs": [],
   "source": [
    "bc = BaggingClassifier(base_estimator=DecisionTreeClassifier(max_depth=3), n_estimators=3, bootstrap_features=True)"
   ]
  },
  {
   "cell_type": "code",
   "execution_count": 26,
   "id": "361cd417",
   "metadata": {},
   "outputs": [
    {
     "data": {
      "text/plain": [
       "BaggingClassifier(base_estimator=DecisionTreeClassifier(max_depth=3),\n",
       "                  bootstrap_features=True, n_estimators=3)"
      ]
     },
     "execution_count": 26,
     "metadata": {},
     "output_type": "execute_result"
    }
   ],
   "source": [
    "bc.fit(X_train, y_train)\n"
   ]
  },
  {
   "cell_type": "code",
   "execution_count": 48,
   "id": "a6e51709",
   "metadata": {},
   "outputs": [],
   "source": [
    "dfpred = pd.DataFrame()\n",
    "dfpred[\"p0\"] = bc.estimators_[0].predict_proba(X_test)[:, 1]\n",
    "dfpred[\"p1\"] = bc.estimators_[1].predict_proba(X_test)[:, 1]\n",
    "dfpred[\"p2\"] = bc.estimators_[2].predict_proba(X_test)[:, 1]"
   ]
  },
  {
   "cell_type": "code",
   "execution_count": 49,
   "id": "e10bc5fa",
   "metadata": {},
   "outputs": [
    {
     "data": {
      "text/html": [
       "<div>\n",
       "<style scoped>\n",
       "    .dataframe tbody tr th:only-of-type {\n",
       "        vertical-align: middle;\n",
       "    }\n",
       "\n",
       "    .dataframe tbody tr th {\n",
       "        vertical-align: top;\n",
       "    }\n",
       "\n",
       "    .dataframe thead th {\n",
       "        text-align: right;\n",
       "    }\n",
       "</style>\n",
       "<table border=\"1\" class=\"dataframe\">\n",
       "  <thead>\n",
       "    <tr style=\"text-align: right;\">\n",
       "      <th></th>\n",
       "      <th>p0</th>\n",
       "      <th>p1</th>\n",
       "      <th>p2</th>\n",
       "    </tr>\n",
       "  </thead>\n",
       "  <tbody>\n",
       "    <tr>\n",
       "      <th>p0</th>\n",
       "      <td>1.000000</td>\n",
       "      <td>0.636107</td>\n",
       "      <td>0.991413</td>\n",
       "    </tr>\n",
       "    <tr>\n",
       "      <th>p1</th>\n",
       "      <td>0.636107</td>\n",
       "      <td>1.000000</td>\n",
       "      <td>0.631716</td>\n",
       "    </tr>\n",
       "    <tr>\n",
       "      <th>p2</th>\n",
       "      <td>0.991413</td>\n",
       "      <td>0.631716</td>\n",
       "      <td>1.000000</td>\n",
       "    </tr>\n",
       "  </tbody>\n",
       "</table>\n",
       "</div>"
      ],
      "text/plain": [
       "          p0        p1        p2\n",
       "p0  1.000000  0.636107  0.991413\n",
       "p1  0.636107  1.000000  0.631716\n",
       "p2  0.991413  0.631716  1.000000"
      ]
     },
     "execution_count": 49,
     "metadata": {},
     "output_type": "execute_result"
    }
   ],
   "source": [
    "dfpred.corr()"
   ]
  },
  {
   "cell_type": "code",
   "execution_count": 27,
   "id": "dbe7bd1b",
   "metadata": {},
   "outputs": [
    {
     "data": {
      "text/plain": [
       "[array([0, 1]), array([1, 1]), array([0, 1])]"
      ]
     },
     "execution_count": 27,
     "metadata": {},
     "output_type": "execute_result"
    }
   ],
   "source": [
    "bc.estimators_features_"
   ]
  },
  {
   "cell_type": "code",
   "execution_count": 28,
   "id": "25637637",
   "metadata": {},
   "outputs": [
    {
     "data": {
      "text/plain": [
       "[Text(167.40000000000003, 190.26, 'X[1] <= 1.5\\ngini = 0.5\\nsamples = 4705\\nvalue = [3703, 3797]'),\n",
       " Text(100.44000000000001, 135.9, 'X[1] <= 0.5\\ngini = 0.405\\nsamples = 3088\\nvalue = [1389, 3529]'),\n",
       " Text(66.96000000000001, 81.53999999999999, 'X[0] <= 89.9\\ngini = 0.182\\nsamples = 1009\\nvalue = [1389, 156]'),\n",
       " Text(33.480000000000004, 27.180000000000007, 'gini = 0.0\\nsamples = 381\\nvalue = [593, 0]'),\n",
       " Text(100.44000000000001, 27.180000000000007, 'gini = 0.274\\nsamples = 628\\nvalue = [796, 156]'),\n",
       " Text(133.92000000000002, 81.53999999999999, 'gini = 0.0\\nsamples = 2079\\nvalue = [0, 3373]'),\n",
       " Text(234.36, 135.9, 'X[0] <= 90.122\\ngini = 0.186\\nsamples = 1617\\nvalue = [2314, 268]'),\n",
       " Text(200.88000000000002, 81.53999999999999, 'gini = 0.0\\nsamples = 573\\nvalue = [928, 0]'),\n",
       " Text(267.84000000000003, 81.53999999999999, 'X[0] <= 109.587\\ngini = 0.272\\nsamples = 1044\\nvalue = [1386, 268]'),\n",
       " Text(234.36, 27.180000000000007, 'gini = 0.464\\nsamples = 461\\nvalue = [461, 267]'),\n",
       " Text(301.32000000000005, 27.180000000000007, 'gini = 0.002\\nsamples = 583\\nvalue = [925, 1]')]"
      ]
     },
     "execution_count": 28,
     "metadata": {},
     "output_type": "execute_result"
    },
    {
     "data": {
      "image/png": "[encoded data removed]",
      "text/plain": [
       "<Figure size 432x288 with 1 Axes>"
      ]
     },
     "metadata": {
      "needs_background": "light"
     },
     "output_type": "display_data"
    }
   ],
   "source": [
    "tree.plot_tree(bc.estimators_[0])"
   ]
  },
  {
   "cell_type": "code",
   "execution_count": 29,
   "id": "bfaaa1c4",
   "metadata": {},
   "outputs": [
    {
     "data": {
      "text/plain": [
       "[Text(200.88000000000002, 181.2, 'X[1] <= 1.5\\ngini = 0.5\\nsamples = 4718\\nvalue = [3850, 3650]'),\n",
       " Text(133.92000000000002, 108.72, 'X[0] <= 0.5\\ngini = 0.429\\nsamples = 3117\\nvalue = [1547, 3419]'),\n",
       " Text(66.96000000000001, 36.23999999999998, 'gini = 0.161\\nsamples = 1037\\nvalue = [1547, 150]'),\n",
       " Text(200.88000000000002, 36.23999999999998, 'gini = 0.0\\nsamples = 2080\\nvalue = [0, 3269]'),\n",
       " Text(267.84000000000003, 108.72, 'gini = 0.166\\nsamples = 1601\\nvalue = [2303, 231]')]"
      ]
     },
     "execution_count": 29,
     "metadata": {},
     "output_type": "execute_result"
    },
    {
     "data": {
      "image/png": "[encoded data removed]",
      "text/plain": [
       "<Figure size 432x288 with 1 Axes>"
      ]
     },
     "metadata": {
      "needs_background": "light"
     },
     "output_type": "display_data"
    }
   ],
   "source": [
    "tree.plot_tree(bc.estimators_[1])"
   ]
  },
  {
   "cell_type": "code",
   "execution_count": 30,
   "id": "a74b8828",
   "metadata": {},
   "outputs": [
    {
     "data": {
      "text/plain": [
       "[Text(167.40000000000003, 190.26, 'X[1] <= 1.5\\ngini = 0.5\\nsamples = 4760\\nvalue = [3768, 3732]'),\n",
       " Text(100.44000000000001, 135.9, 'X[1] <= 0.5\\ngini = 0.417\\nsamples = 3141\\nvalue = [1466, 3491]'),\n",
       " Text(66.96000000000001, 81.53999999999999, 'X[0] <= 109.978\\ngini = 0.158\\nsamples = 1020\\nvalue = [1466, 139]'),\n",
       " Text(33.480000000000004, 27.180000000000007, 'gini = 0.238\\nsamples = 653\\nvalue = [867, 139]'),\n",
       " Text(100.44000000000001, 27.180000000000007, 'gini = 0.0\\nsamples = 367\\nvalue = [599, 0]'),\n",
       " Text(133.92000000000002, 81.53999999999999, 'gini = 0.0\\nsamples = 2121\\nvalue = [0, 3352]'),\n",
       " Text(234.36, 135.9, 'X[0] <= 90.067\\ngini = 0.172\\nsamples = 1619\\nvalue = [2302, 241]'),\n",
       " Text(200.88000000000002, 81.53999999999999, 'gini = 0.0\\nsamples = 598\\nvalue = [950, 0]'),\n",
       " Text(267.84000000000003, 81.53999999999999, 'X[0] <= 109.702\\ngini = 0.257\\nsamples = 1021\\nvalue = [1352, 241]'),\n",
       " Text(234.36, 27.180000000000007, 'gini = 0.448\\nsamples = 455\\nvalue = [472, 241]'),\n",
       " Text(301.32000000000005, 27.180000000000007, 'gini = 0.0\\nsamples = 566\\nvalue = [880, 0]')]"
      ]
     },
     "execution_count": 30,
     "metadata": {},
     "output_type": "execute_result"
    },
    {
     "data": {
      "image/png": "[encoded data removed]",
      "text/plain": [
       "<Figure size 432x288 with 1 Axes>"
      ]
     },
     "metadata": {
      "needs_background": "light"
     },
     "output_type": "display_data"
    }
   ],
   "source": [
    "tree.plot_tree(bc.estimators_[2])"
   ]
  },
  {
   "cell_type": "code",
   "execution_count": 10,
   "id": "107058e3",
   "metadata": {},
   "outputs": [
    {
     "ename": "NameError",
     "evalue": "name 'dtc' is not defined",
     "output_type": "error",
     "traceback": [
      "\u001b[0;31m---------------------------------------------------------------------------\u001b[0m",
      "\u001b[0;31mNameError\u001b[0m                                 Traceback (most recent call last)",
      "\u001b[0;32m/tmp/ipykernel_236/1679056570.py\u001b[0m in \u001b[0;36m<module>\u001b[0;34m\u001b[0m\n\u001b[0;32m----> 1\u001b[0;31m \u001b[0mdtc\u001b[0m\u001b[0;34m.\u001b[0m\u001b[0mfit\u001b[0m\u001b[0;34m(\u001b[0m\u001b[0mX_train\u001b[0m\u001b[0;34m,\u001b[0m \u001b[0my_train\u001b[0m\u001b[0;34m)\u001b[0m\u001b[0;34m\u001b[0m\u001b[0;34m\u001b[0m\u001b[0m\n\u001b[0m\u001b[1;32m      2\u001b[0m \u001b[0mpred_train\u001b[0m \u001b[0;34m=\u001b[0m \u001b[0mdtc\u001b[0m\u001b[0;34m.\u001b[0m\u001b[0mpredict_proba\u001b[0m\u001b[0;34m(\u001b[0m\u001b[0mX_train\u001b[0m\u001b[0;34m)\u001b[0m\u001b[0;34m[\u001b[0m\u001b[0;34m:\u001b[0m\u001b[0;34m,\u001b[0m \u001b[0;36m1\u001b[0m\u001b[0;34m]\u001b[0m\u001b[0;34m\u001b[0m\u001b[0;34m\u001b[0m\u001b[0m\n\u001b[1;32m      3\u001b[0m \u001b[0mpred_test\u001b[0m \u001b[0;34m=\u001b[0m \u001b[0mdtc\u001b[0m\u001b[0;34m.\u001b[0m\u001b[0mpredict_proba\u001b[0m\u001b[0;34m(\u001b[0m\u001b[0mX_test\u001b[0m\u001b[0;34m)\u001b[0m\u001b[0;34m[\u001b[0m\u001b[0;34m:\u001b[0m\u001b[0;34m,\u001b[0m \u001b[0;36m1\u001b[0m\u001b[0;34m]\u001b[0m\u001b[0;34m\u001b[0m\u001b[0;34m\u001b[0m\u001b[0m\n\u001b[1;32m      4\u001b[0m \u001b[0mscore_train\u001b[0m \u001b[0;34m=\u001b[0m \u001b[0mroc_auc_score\u001b[0m\u001b[0;34m(\u001b[0m\u001b[0my_train\u001b[0m\u001b[0;34m,\u001b[0m \u001b[0mpred_train\u001b[0m\u001b[0;34m)\u001b[0m\u001b[0;34m\u001b[0m\u001b[0;34m\u001b[0m\u001b[0m\n\u001b[1;32m      5\u001b[0m \u001b[0mscore_test\u001b[0m \u001b[0;34m=\u001b[0m \u001b[0mroc_auc_score\u001b[0m\u001b[0;34m(\u001b[0m\u001b[0my_test\u001b[0m\u001b[0;34m,\u001b[0m \u001b[0mpred_test\u001b[0m\u001b[0;34m)\u001b[0m\u001b[0;34m\u001b[0m\u001b[0;34m\u001b[0m\u001b[0m\n",
      "\u001b[0;31mNameError\u001b[0m: name 'dtc' is not defined"
     ]
    }
   ],
   "source": [
    "dtc.fit(X_train, y_train)\n",
    "pred_train = dtc.predict_proba(X_train)[:, 1]\n",
    "pred_test = dtc.predict_proba(X_test)[:, 1]\n",
    "score_train = roc_auc_score(y_train, pred_train)\n",
    "score_test = roc_auc_score(y_test, pred_test)\n",
    "print(score_train, score_test)\n",
    "#2 0.9618597923456943\n",
    "#3 0.9852814376934589\n",
    "#4 0.9896073555336901\n",
    "#5 0.9897108111432261\n",
    "#6 0.9882140679130025\n",
    "#7 0.9875158226226348\n",
    "#100 0.9275452001721912\n"
   ]
  },
  {
   "cell_type": "code",
   "execution_count": null,
   "id": "b179cd2c",
   "metadata": {
    "scrolled": false
   },
   "outputs": [],
   "source": [
    "tree.plot_tree(dtc)"
   ]
  },
  {
   "cell_type": "code",
   "execution_count": null,
   "id": "5fe3e899",
   "metadata": {},
   "outputs": [],
   "source": [
    "tree.plot_tree(dtc)"
   ]
  },
  {
   "cell_type": "code",
   "execution_count": null,
   "id": "bc6d2ce7",
   "metadata": {},
   "outputs": [],
   "source": [
    "from sklearn.ensemble import AdaBoostClassifier\n",
    "adb = AdaBoostClassifier(base_estimator=DecisionTreeClassifier(max_depth=6), n_estimators=20, learning_rate=0.1)"
   ]
  },
  {
   "cell_type": "code",
   "execution_count": null,
   "id": "de8ce8b5",
   "metadata": {},
   "outputs": [],
   "source": [
    "adb.fit(X_train, y_train)"
   ]
  },
  {
   "cell_type": "code",
   "execution_count": null,
   "id": "10571c91",
   "metadata": {},
   "outputs": [],
   "source": [
    "adb.estimators_"
   ]
  },
  {
   "cell_type": "code",
   "execution_count": null,
   "id": "cd82b836",
   "metadata": {},
   "outputs": [],
   "source": [
    "for i in range(20):\n",
    "    pred_train = adb.estimators_[i].predict_proba(X_train)[:,1]\n",
    "    score_train = roc_auc_score(y_train, pred_train)\n",
    "    pred_test = adb.estimators_[i].predict_proba(X_test)[:,1]\n",
    "    score_test = roc_auc_score(y_test, pred1)\n",
    "    print(score_train, score_test)"
   ]
  },
  {
   "cell_type": "code",
   "execution_count": null,
   "id": "2c381b13",
   "metadata": {},
   "outputs": [],
   "source": [
    "pred_test = adb.predict_proba(X_test)[:,1]\n",
    "score_test = roc_auc_score(y_test, pred1)\n",
    "print(score_test)"
   ]
  },
  {
   "cell_type": "code",
   "execution_count": 31,
   "id": "a6f81f00",
   "metadata": {},
   "outputs": [],
   "source": [
    "import xgboost"
   ]
  },
  {
   "cell_type": "code",
   "execution_count": 45,
   "id": "687c1ff6",
   "metadata": {},
   "outputs": [],
   "source": [
    "xgb = xgboost.XGBClassifier(n_estimators=200, max_depth=3, learning_rate=0.5, early_stopping_rounds=10)"
   ]
  },
  {
   "cell_type": "code",
   "execution_count": 46,
   "id": "574d38eb",
   "metadata": {
    "scrolled": false
   },
   "outputs": [
    {
     "name": "stdout",
     "output_type": "stream",
     "text": [
      "[0]\tvalidation_0-logloss:0.37145\tvalidation_1-logloss:0.37637\n",
      "[1]\tvalidation_0-logloss:0.25104\tvalidation_1-logloss:0.25878\n",
      "[2]\tvalidation_0-logloss:0.18679\tvalidation_1-logloss:0.19273\n",
      "[3]\tvalidation_0-logloss:0.15571\tvalidation_1-logloss:0.16046\n",
      "[4]\tvalidation_0-logloss:0.13298\tvalidation_1-logloss:0.14071\n",
      "[5]\tvalidation_0-logloss:0.12168\tvalidation_1-logloss:0.12965\n",
      "[6]\tvalidation_0-logloss:0.11519\tvalidation_1-logloss:0.12243\n",
      "[7]\tvalidation_0-logloss:0.10777\tvalidation_1-logloss:0.11716\n",
      "[8]\tvalidation_0-logloss:0.10520\tvalidation_1-logloss:0.11509\n",
      "[9]\tvalidation_0-logloss:0.10148\tvalidation_1-logloss:0.11190\n",
      "[10]\tvalidation_0-logloss:0.10037\tvalidation_1-logloss:0.11042\n",
      "[11]\tvalidation_0-logloss:0.09966\tvalidation_1-logloss:0.10989\n",
      "[12]\tvalidation_0-logloss:0.09741\tvalidation_1-logloss:0.10888\n",
      "[13]\tvalidation_0-logloss:0.09697\tvalidation_1-logloss:0.10827\n",
      "[14]\tvalidation_0-logloss:0.09649\tvalidation_1-logloss:0.10857\n",
      "[15]\tvalidation_0-logloss:0.09598\tvalidation_1-logloss:0.10898\n",
      "[16]\tvalidation_0-logloss:0.09550\tvalidation_1-logloss:0.10909\n",
      "[17]\tvalidation_0-logloss:0.09443\tvalidation_1-logloss:0.10878\n",
      "[18]\tvalidation_0-logloss:0.09324\tvalidation_1-logloss:0.10969\n",
      "[19]\tvalidation_0-logloss:0.09295\tvalidation_1-logloss:0.10979\n",
      "[20]\tvalidation_0-logloss:0.09249\tvalidation_1-logloss:0.11015\n",
      "[21]\tvalidation_0-logloss:0.09231\tvalidation_1-logloss:0.11041\n",
      "[22]\tvalidation_0-logloss:0.09212\tvalidation_1-logloss:0.11056\n",
      "[23]\tvalidation_0-logloss:0.09142\tvalidation_1-logloss:0.10995\n"
     ]
    },
    {
     "data": {
      "text/plain": [
       "XGBClassifier(base_score=0.5, booster='gbtree', callbacks=None,\n",
       "              colsample_bylevel=1, colsample_bynode=1, colsample_bytree=1,\n",
       "              early_stopping_rounds=10, enable_categorical=False,\n",
       "              eval_metric=None, gamma=0, gpu_id=-1, grow_policy='depthwise',\n",
       "              importance_type=None, interaction_constraints='',\n",
       "              learning_rate=0.5, max_bin=256, max_cat_to_onehot=4,\n",
       "              max_delta_step=0, max_depth=3, max_leaves=0, min_child_weight=1,\n",
       "              missing=nan, monotone_constraints='()', n_estimators=200,\n",
       "              n_jobs=0, num_parallel_tree=1, predictor='auto', random_state=0,\n",
       "              reg_alpha=0, reg_lambda=1, ...)"
      ]
     },
     "execution_count": 46,
     "metadata": {},
     "output_type": "execute_result"
    }
   ],
   "source": [
    "xgb.fit(X_train, y_train, eval_set=[(X_train,y_train),(X_test,y_test)], verbose=True)"
   ]
  },
  {
   "cell_type": "code",
   "execution_count": null,
   "id": "222e8111",
   "metadata": {},
   "outputs": [],
   "source": [
    "pred_test = xgb.predict_proba(X_test)\n",
    "score_test = roc_auc_score(y_test, pred1)\n",
    "print(score_test)"
   ]
  },
  {
   "cell_type": "code",
   "execution_count": null,
   "id": "63c1f07f",
   "metadata": {},
   "outputs": [],
   "source": []
  }
 ],
 "metadata": {
  "kernelspec": {
   "display_name": "Python 3 (ipykernel)",
   "language": "python",
   "name": "python3"
  },
  "language_info": {
   "codemirror_mode": {
    "name": "ipython",
    "version": 3
   },
   "file_extension": ".py",
   "mimetype": "text/x-python",
   "name": "python",
   "nbconvert_exporter": "python",
   "pygments_lexer": "ipython3",
   "version": "3.10.12"
  }
 },
 "nbformat": 4,
 "nbformat_minor": 5
}
